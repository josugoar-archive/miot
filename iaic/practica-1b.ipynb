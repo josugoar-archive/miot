{
 "cells": [
  {
   "cell_type": "code",
   "execution_count": null,
   "metadata": {},
   "outputs": [],
   "source": [
    "from sklearn.metrics import ndcg_score, precision_score, recall_score\n",
    "from surprise import NMF, SVD, Dataset, KNNBasic, accuracy\n",
    "from surprise.model_selection import train_test_split"
   ]
  },
  {
   "cell_type": "code",
   "execution_count": 71,
   "metadata": {},
   "outputs": [],
   "source": [
    "seed = 0"
   ]
  },
  {
   "cell_type": "code",
   "execution_count": 72,
   "metadata": {},
   "outputs": [],
   "source": [
    "data = Dataset.load_builtin(\"ml-100k\")"
   ]
  },
  {
   "cell_type": "code",
   "execution_count": 73,
   "metadata": {},
   "outputs": [],
   "source": [
    "trainset, testset = train_test_split(data, test_size=0.25, random_state=seed)"
   ]
  },
  {
   "cell_type": "code",
   "execution_count": 74,
   "metadata": {},
   "outputs": [],
   "source": [
    "knn = KNNBasic(sim_options={\"name\": \"pearson_baseline\"}, random_state=seed)\n",
    "svd = SVD(random_state=seed)\n",
    "nmf = NMF(random_state=seed)"
   ]
  },
  {
   "cell_type": "code",
   "execution_count": 75,
   "metadata": {},
   "outputs": [
    {
     "name": "stdout",
     "output_type": "stream",
     "text": [
      "Estimating biases using als...\n",
      "Computing the pearson_baseline similarity matrix...\n",
      "Done computing similarity matrix.\n"
     ]
    }
   ],
   "source": [
    "knn_predictions = knn.fit(trainset).test(testset)\n",
    "svd_predictions = svd.fit(trainset).test(testset)\n",
    "nmf_predictions = nmf.fit(trainset).test(testset)"
   ]
  },
  {
   "cell_type": "code",
   "execution_count": 89,
   "metadata": {},
   "outputs": [
    {
     "data": {
      "text/plain": [
       "0.12412945514133551"
      ]
     },
     "execution_count": 89,
     "metadata": {},
     "output_type": "execute_result"
    }
   ],
   "source": [
    "knn_predictions = list(\n",
    "    filter(\n",
    "        lambda prediction: prediction.r_ui > 4 and prediction.est > 4, knn_predictions\n",
    "    )\n",
    ")\n",
    "knn_r_ui = list(map(lambda prediction: round(prediction.r_ui), knn_predictions))\n",
    "knn_est = list(map(lambda prediction: round(prediction.est), knn_predictions))\n",
    "# accuracy.rmse(knn_predictions)\n",
    "precision_score(knn_r_ui, knn_est, average=\"micro\")\n",
    "recall_score(knn_r_ui, knn_est, average=\"micro\")\n",
    "# ndcg_score(knn_r_ui, knn_est, k=10)"
   ]
  },
  {
   "cell_type": "code",
   "execution_count": null,
   "metadata": {},
   "outputs": [
    {
     "name": "stdout",
     "output_type": "stream",
     "text": [
      "RMSE: 1.1116\n"
     ]
    },
    {
     "data": {
      "text/plain": [
       "1.1115695318702636"
      ]
     },
     "execution_count": 31,
     "metadata": {},
     "output_type": "execute_result"
    }
   ],
   "source": [
    "svd_predictions = list(filter(lambda prediction: prediction.r_ui > 4, svd_predictions))\n",
    "accuracy.rmse(svd_predictions)"
   ]
  },
  {
   "cell_type": "code",
   "execution_count": null,
   "metadata": {},
   "outputs": [
    {
     "name": "stdout",
     "output_type": "stream",
     "text": [
      "RMSE: 1.1509\n"
     ]
    },
    {
     "data": {
      "text/plain": [
       "1.150903237731067"
      ]
     },
     "execution_count": 32,
     "metadata": {},
     "output_type": "execute_result"
    }
   ],
   "source": [
    "nmf_predictions = lisaccuracy.t(filter(lambda prediction: prediction.r_ui > 4, nmf_predictions))\n",
    "accuracy.rmse(nmf_predictions)"
   ]
  }
 ],
 "metadata": {
  "kernelspec": {
   "display_name": "Python 3",
   "language": "python",
   "name": "python3"
  },
  "language_info": {
   "codemirror_mode": {
    "name": "ipython",
    "version": 3
   },
   "file_extension": ".py",
   "mimetype": "text/x-python",
   "name": "python",
   "nbconvert_exporter": "python",
   "pygments_lexer": "ipython3",
   "version": "3.12.4"
  }
 },
 "nbformat": 4,
 "nbformat_minor": 2
}
