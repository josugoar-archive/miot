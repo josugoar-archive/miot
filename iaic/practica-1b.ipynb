{
 "cells": [
  {
   "cell_type": "code",
   "execution_count": 85,
   "metadata": {},
   "outputs": [],
   "source": [
    "from sklearn.metrics import ndcg_score, precision_score, recall_score\n",
    "from surprise import NMF, SVD, Dataset, KNNBasic, accuracy\n",
    "from surprise.model_selection import train_test_split"
   ]
  },
  {
   "cell_type": "code",
   "execution_count": 86,
   "metadata": {},
   "outputs": [],
   "source": [
    "seed = 0"
   ]
  },
  {
   "cell_type": "code",
   "execution_count": 87,
   "metadata": {},
   "outputs": [],
   "source": [
    "data = Dataset.load_builtin(\"ml-100k\")"
   ]
  },
  {
   "cell_type": "code",
   "execution_count": 88,
   "metadata": {},
   "outputs": [],
   "source": [
    "trainset, testset = train_test_split(data, test_size=0.25, random_state=seed)"
   ]
  },
  {
   "cell_type": "code",
   "execution_count": 89,
   "metadata": {},
   "outputs": [],
   "source": [
    "knn = KNNBasic(sim_options={\"name\": \"pearson_baseline\"}, random_state=seed)\n",
    "svd = SVD(random_state=seed)\n",
    "nmf = NMF(random_state=seed)"
   ]
  },
  {
   "cell_type": "code",
   "execution_count": 90,
   "metadata": {},
   "outputs": [
    {
     "name": "stdout",
     "output_type": "stream",
     "text": [
      "Estimating biases using als...\n",
      "Computing the pearson_baseline similarity matrix...\n",
      "Done computing similarity matrix.\n"
     ]
    }
   ],
   "source": [
    "knn_predictions = knn.fit(trainset).test(testset)\n",
    "svd_predictions = svd.fit(trainset).test(testset)\n",
    "nmf_predictions = nmf.fit(trainset).test(testset)"
   ]
  },
  {
   "cell_type": "code",
   "execution_count": 91,
   "metadata": {},
   "outputs": [
    {
     "data": {
      "text/plain": [
       "([Prediction(uid='120', iid='282', r_ui=4.0, est=3.5210151597395307, details={'actual_k': 40, 'was_impossible': False}),\n",
       "  Prediction(uid='882', iid='291', r_ui=4.0, est=3.5439588060540723, details={'actual_k': 40, 'was_impossible': False}),\n",
       "  Prediction(uid='535', iid='507', r_ui=5.0, est=3.8355506819136673, details={'actual_k': 38, 'was_impossible': False}),\n",
       "  Prediction(uid='697', iid='244', r_ui=5.0, est=3.027281165779006, details={'actual_k': 14, 'was_impossible': False}),\n",
       "  Prediction(uid='751', iid='385', r_ui=4.0, est=3.4664024390369557, details={'actual_k': 40, 'was_impossible': False})],\n",
       " [Prediction(uid='120', iid='282', r_ui=4.0, est=3.5114147666251547, details={'was_impossible': False}),\n",
       "  Prediction(uid='882', iid='291', r_ui=4.0, est=3.573872419581491, details={'was_impossible': False}),\n",
       "  Prediction(uid='535', iid='507', r_ui=5.0, est=4.033583485472447, details={'was_impossible': False}),\n",
       "  Prediction(uid='697', iid='244', r_ui=5.0, est=3.8463639495936905, details={'was_impossible': False}),\n",
       "  Prediction(uid='751', iid='385', r_ui=4.0, est=3.1807542478219157, details={'was_impossible': False})],\n",
       " [Prediction(uid='120', iid='282', r_ui=4.0, est=3.798552411236064, details={'was_impossible': False}),\n",
       "  Prediction(uid='882', iid='291', r_ui=4.0, est=4.056615660363935, details={'was_impossible': False}),\n",
       "  Prediction(uid='535', iid='507', r_ui=5.0, est=4.146684034850602, details={'was_impossible': False}),\n",
       "  Prediction(uid='697', iid='244', r_ui=5.0, est=3.4524543286023097, details={'was_impossible': False}),\n",
       "  Prediction(uid='751', iid='385', r_ui=4.0, est=3.608111396934364, details={'was_impossible': False})])"
      ]
     },
     "execution_count": 91,
     "metadata": {},
     "output_type": "execute_result"
    }
   ],
   "source": [
    "knn_predictions[:5], svd_predictions[:5], nmf_predictions[:5]"
   ]
  },
  {
   "cell_type": "markdown",
   "metadata": {},
   "source": [
    "Cada elemento de los objetos de predicción contiene el id del usuario y de la película, el rating real y la predicción calculada. Por ejemplo, en la tercera, el rating real es un 5 y la predicción es un 3.8, convertido en 4, por lo que consideraría la pelicula irrelevante, cuando realmente tiene una buena valoración."
   ]
  },
  {
   "cell_type": "code",
   "execution_count": 95,
   "metadata": {},
   "outputs": [
    {
     "name": "stdout",
     "output_type": "stream",
     "text": [
      "Method: knn, RMSE: 2.1213203435596424, Precision: 0.4, Recall: 1.0, NDCG: 0.7094859686180036\n",
      "Method: svd, RMSE: 0.5477225575051661, Precision: 0.7, Recall: 1.0, NDCG: 0.8742418504625449\n",
      "Method: nmf, RMSE: 1.0, Precision: 0.8, Recall: 1.0, NDCG: 0.9194081433290348\n"
     ]
    }
   ],
   "source": [
    "k = 10\n",
    "for method, predictions in {\n",
    "    \"knn\": knn_predictions,\n",
    "    \"svd\": svd_predictions,\n",
    "    \"nmf\": nmf_predictions,\n",
    "}.items():\n",
    "    predictions = sorted(predictions, key=lambda x: x.est, reverse=True)[:k]\n",
    "    rmse = accuracy.rmse(predictions, verbose=False)\n",
    "    X = [int(prediction.r_ui > 4) for prediction in predictions]\n",
    "    y = [int(prediction.est > 4) for prediction in predictions]\n",
    "    precision = precision_score(X, y)\n",
    "    recall = recall_score(X, y)\n",
    "    ndcg = ndcg_score([X], [y])\n",
    "    print(\n",
    "        f\"Method: {method}, RMSE: {rmse}, Precision: {precision}, Recall: {recall}, NDCG: {ndcg}\"\n",
    "    )"
   ]
  },
  {
   "cell_type": "markdown",
   "metadata": {},
   "source": [
    "El recall de 1 en los resultados indica que no hay falsos negativos, pero esto se debe a elegir tan solo el top k, evitando estos falsos negativos. La precisión nos dice los falsos positivos, es decir, peliculas valoradas como relevantes que no lo son en realidad. A más precisión, menos falsos positivos. El NDCG indica como de bien están ordenados los resultados segun la relevancia. Se puede observar como el mejor modelo es el NMF."
   ]
  }
 ],
 "metadata": {
  "kernelspec": {
   "display_name": "Python 3",
   "language": "python",
   "name": "python3"
  },
  "language_info": {
   "codemirror_mode": {
    "name": "ipython",
    "version": 3
   },
   "file_extension": ".py",
   "mimetype": "text/x-python",
   "name": "python",
   "nbconvert_exporter": "python",
   "pygments_lexer": "ipython3",
   "version": "3.12.4"
  }
 },
 "nbformat": 4,
 "nbformat_minor": 2
}
