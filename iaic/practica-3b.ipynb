{
 "cells": [
  {
   "cell_type": "markdown",
   "metadata": {},
   "source": [
    "EXPERIMENTO 1"
   ]
  },
  {
   "cell_type": "markdown",
   "metadata": {
    "id": "Mx5b7PmBjtTZ"
   },
   "source": [
    "PREPARACION"
   ]
  },
  {
   "cell_type": "code",
   "execution_count": 1,
   "metadata": {
    "id": "B1ORSEDgLCNo"
   },
   "outputs": [],
   "source": [
    "import torch\n",
    "import torchvision\n",
    "import torchvision.transforms as transforms"
   ]
  },
  {
   "cell_type": "code",
   "execution_count": 47,
   "metadata": {
    "colab": {
     "base_uri": "https://localhost:8080/"
    },
    "executionInfo": {
     "elapsed": 9099,
     "status": "ok",
     "timestamp": 1742216141168,
     "user": {
      "displayName": "Julio Cesar Urquizo Gomez",
      "userId": "15247040317140376375"
     },
     "user_tz": -60
    },
    "id": "a-qa5d7eK8hN",
    "outputId": "70e37d9e-5474-43fe-de3b-583336dc5abf"
   },
   "outputs": [],
   "source": [
    "transform = transforms.Compose([transforms.ToTensor()])\n",
    "\n",
    "batch_size = 4\n",
    "\n",
    "trainset = torchvision.datasets.MNIST(\n",
    "    root=\"./data\", train=True, download=True, transform=transform\n",
    ")\n",
    "trainloader = torch.utils.data.DataLoader(\n",
    "    trainset, batch_size=batch_size, shuffle=True, num_workers=2\n",
    ")\n",
    "\n",
    "testset = torchvision.datasets.MNIST(\n",
    "    root=\"./data\", train=False, download=True, transform=transform\n",
    ")\n",
    "testloader = torch.utils.data.DataLoader(\n",
    "    testset, batch_size=batch_size, shuffle=False, num_workers=2\n",
    ")\n",
    "\n",
    "classes = (\"0\", \"1\", \"2\", \"3\", \"4\", \"5\", \"6\", \"7\", \"8\", \"9\")"
   ]
  },
  {
   "cell_type": "code",
   "execution_count": null,
   "metadata": {
    "colab": {
     "base_uri": "https://localhost:8080/",
     "height": 210
    },
    "executionInfo": {
     "elapsed": 545,
     "status": "ok",
     "timestamp": 1742216150980,
     "user": {
      "displayName": "Julio Cesar Urquizo Gomez",
      "userId": "15247040317140376375"
     },
     "user_tz": -60
    },
    "id": "2IEM7UNPLJLf",
    "outputId": "cbfc72a9-899f-459f-df2b-b7eb6c9e60af"
   },
   "outputs": [
    {
     "data": {
      "image/png": "[encoded data removed]",
      "text/plain": [
       "<Figure size 640x480 with 1 Axes>"
      ]
     },
     "metadata": {},
     "output_type": "display_data"
    },
    {
     "name": "stdout",
     "output_type": "stream",
     "text": [
      "9     9     9     0    \n"
     ]
    }
   ],
   "source": [
    "import matplotlib.pyplot as plt\n",
    "import numpy as np\n",
    "\n",
    "# functions to show an image\n",
    "\n",
    "\n",
    "def imshow(img):\n",
    "    npimg = img.numpy()\n",
    "    plt.imshow(np.transpose(npimg, (1, 2, 0)))\n",
    "    plt.show()\n",
    "\n",
    "\n",
    "# get some random training images\n",
    "dataiter = iter(trainloader)\n",
    "images, labels = next(dataiter)\n",
    "\n",
    "# show images\n",
    "imshow(torchvision.utils.make_grid(images))\n",
    "# print labels\n",
    "print(\" \".join(f\"{classes[labels[j]]:5s}\" for j in range(batch_size)))"
   ]
  },
  {
   "cell_type": "markdown",
   "metadata": {
    "id": "GuaQnjY5jwJ-"
   },
   "source": [
    "MODELO"
   ]
  },
  {
   "cell_type": "code",
   "execution_count": null,
   "metadata": {
    "id": "8jalvl4wMdhZ"
   },
   "outputs": [],
   "source": [
    "import torch.nn as nn\n",
    "import torch.nn.functional as F\n",
    "\n",
    "\n",
    "class Net(nn.Module):\n",
    "    def __init__(self):\n",
    "        super().__init__()\n",
    "        self.conv1 = nn.Conv2d(1, 6, 5)\n",
    "        self.pool = nn.MaxPool2d(2, 2)\n",
    "        self.conv2 = nn.Conv2d(6, 16, 5)\n",
    "        self.fc1 = nn.Linear(16 * 4 * 4, 120)\n",
    "        self.fc2 = nn.Linear(120, 84)\n",
    "        self.fc3 = nn.Linear(84, 10)\n",
    "\n",
    "    def forward(self, x):\n",
    "        x = self.pool(F.relu(self.conv1(x)))\n",
    "        x = self.pool(F.relu(self.conv2(x)))\n",
    "        x = torch.flatten(x, 1)\n",
    "        x = F.relu(self.fc1(x))\n",
    "        x = F.relu(self.fc2(x))\n",
    "        x = self.fc3(x)\n",
    "        return x\n",
    "\n",
    "\n",
    "net = Net()"
   ]
  },
  {
   "cell_type": "code",
   "execution_count": 50,
   "metadata": {
    "id": "OB1yLzkMMj2N"
   },
   "outputs": [],
   "source": [
    "import torch.optim as optim\n",
    "\n",
    "criterion = nn.CrossEntropyLoss()\n",
    "optimizer = optim.SGD(net.parameters(), lr=0.001, momentum=0.9)"
   ]
  },
  {
   "cell_type": "code",
   "execution_count": 51,
   "metadata": {
    "colab": {
     "base_uri": "https://localhost:8080/"
    },
    "executionInfo": {
     "elapsed": 185412,
     "status": "ok",
     "timestamp": 1742216709077,
     "user": {
      "displayName": "Julio Cesar Urquizo Gomez",
      "userId": "15247040317140376375"
     },
     "user_tz": -60
    },
    "id": "9f7sxnLUMmPW",
    "outputId": "ec984de1-6732-43e8-f235-eddd51054c9d"
   },
   "outputs": [
    {
     "name": "stdout",
     "output_type": "stream",
     "text": [
      "[1,  2000] loss: 1.526\n",
      "[1,  4000] loss: 0.303\n",
      "[1,  6000] loss: 0.172\n",
      "[1,  8000] loss: 0.139\n",
      "[1, 10000] loss: 0.116\n",
      "[1, 12000] loss: 0.103\n",
      "[1, 14000] loss: 0.088\n",
      "[2,  2000] loss: 0.077\n",
      "[2,  4000] loss: 0.083\n",
      "[2,  6000] loss: 0.067\n",
      "[2,  8000] loss: 0.069\n",
      "[2, 10000] loss: 0.057\n",
      "[2, 12000] loss: 0.054\n",
      "[2, 14000] loss: 0.071\n",
      "Finished Training\n"
     ]
    }
   ],
   "source": [
    "for epoch in range(2):  # loop over the dataset multiple times\n",
    "    running_loss = 0.0\n",
    "    for i, data in enumerate(trainloader, 0):\n",
    "        # get the inputs; data is a list of [inputs, labels]\n",
    "        inputs, labels = data\n",
    "\n",
    "        # zero the parameter gradients\n",
    "        optimizer.zero_grad()\n",
    "\n",
    "        # forward + backward + optimize\n",
    "        outputs = net(inputs)\n",
    "        loss = criterion(outputs, labels)\n",
    "        loss.backward()\n",
    "        optimizer.step()\n",
    "\n",
    "        # print statistics\n",
    "        running_loss += loss.item()\n",
    "        if i % 2000 == 1999:  # print every 2000 mini-batches\n",
    "            print(f\"[{epoch + 1}, {i + 1:5d}] loss: {running_loss / 2000:.3f}\")\n",
    "            running_loss = 0.0\n",
    "\n",
    "print(\"Finished Training\")"
   ]
  },
  {
   "cell_type": "code",
   "execution_count": 52,
   "metadata": {},
   "outputs": [],
   "source": [
    "PATH = \"./mnist_net.pth\"\n",
    "torch.save(net.state_dict(), PATH)"
   ]
  },
  {
   "cell_type": "code",
   "execution_count": 53,
   "metadata": {
    "colab": {
     "base_uri": "https://localhost:8080/",
     "height": 210
    },
    "executionInfo": {
     "elapsed": 2424,
     "status": "ok",
     "timestamp": 1742222223760,
     "user": {
      "displayName": "Julio Cesar Urquizo Gomez",
      "userId": "15247040317140376375"
     },
     "user_tz": -60
    },
    "id": "inXi_IbnMw9T",
    "outputId": "5a0e427d-a8ec-4237-b285-79ea9b3dd402"
   },
   "outputs": [
    {
     "data": {
      "image/png": "[encoded data removed]",
      "text/plain": [
       "<Figure size 640x480 with 1 Axes>"
      ]
     },
     "metadata": {},
     "output_type": "display_data"
    },
    {
     "name": "stdout",
     "output_type": "stream",
     "text": [
      "GroundTruth:  7     2     1     0    \n"
     ]
    }
   ],
   "source": [
    "dataiter = iter(testloader)\n",
    "images, labels = next(dataiter)\n",
    "\n",
    "# print images\n",
    "imshow(torchvision.utils.make_grid(images))\n",
    "print(\"GroundTruth: \", \" \".join(f\"{classes[labels[j]]:5s}\" for j in range(4)))"
   ]
  },
  {
   "cell_type": "code",
   "execution_count": 54,
   "metadata": {
    "id": "kwaiHCQViXfO"
   },
   "outputs": [
    {
     "data": {
      "text/plain": [
       "<All keys matched successfully>"
      ]
     },
     "execution_count": 54,
     "metadata": {},
     "output_type": "execute_result"
    }
   ],
   "source": [
    "net = Net()\n",
    "net.load_state_dict(torch.load(PATH, weights_only=True))"
   ]
  },
  {
   "cell_type": "code",
   "execution_count": 55,
   "metadata": {
    "id": "3cE2POD4iXsk"
   },
   "outputs": [],
   "source": [
    "outputs = net(images)"
   ]
  },
  {
   "cell_type": "code",
   "execution_count": 56,
   "metadata": {
    "colab": {
     "base_uri": "https://localhost:8080/"
    },
    "executionInfo": {
     "elapsed": 261,
     "status": "ok",
     "timestamp": 1742222281717,
     "user": {
      "displayName": "Julio Cesar Urquizo Gomez",
      "userId": "15247040317140376375"
     },
     "user_tz": -60
    },
    "id": "WiEFM0fOig3I",
    "outputId": "28e858f4-4a55-4cec-eb43-a4aa6ee7c48f"
   },
   "outputs": [
    {
     "name": "stdout",
     "output_type": "stream",
     "text": [
      "Predicted:  7     2     1     0    \n"
     ]
    }
   ],
   "source": [
    "_, predicted = torch.max(outputs, 1)\n",
    "\n",
    "print(\"Predicted: \", \" \".join(f\"{classes[predicted[j]]:5s}\" for j in range(4)))"
   ]
  },
  {
   "cell_type": "code",
   "execution_count": 57,
   "metadata": {
    "colab": {
     "base_uri": "https://localhost:8080/"
    },
    "executionInfo": {
     "elapsed": 8897,
     "status": "ok",
     "timestamp": 1742222318175,
     "user": {
      "displayName": "Julio Cesar Urquizo Gomez",
      "userId": "15247040317140376375"
     },
     "user_tz": -60
    },
    "id": "c7hzPTSCimdy",
    "outputId": "006ddf5b-ee4f-44db-9bca-0efba23978d2"
   },
   "outputs": [
    {
     "name": "stdout",
     "output_type": "stream",
     "text": [
      "Accuracy of the network on the 10000 test images: 98 %\n"
     ]
    }
   ],
   "source": [
    "correct = 0\n",
    "total = 0\n",
    "# since we're not training, we don't need to calculate the gradients for our outputs\n",
    "with torch.no_grad():\n",
    "    for data in testloader:\n",
    "        images, labels = data\n",
    "        # calculate outputs by running images through the network\n",
    "        outputs = net(images)\n",
    "        # the class with the highest energy is what we choose as prediction\n",
    "        _, predicted = torch.max(outputs, 1)\n",
    "        total += labels.size(0)\n",
    "        correct += (predicted == labels).sum().item()\n",
    "\n",
    "print(f\"Accuracy of the network on the 10000 test images: {100 * correct // total} %\")"
   ]
  },
  {
   "cell_type": "code",
   "execution_count": 58,
   "metadata": {
    "colab": {
     "base_uri": "https://localhost:8080/"
    },
    "executionInfo": {
     "elapsed": 28398,
     "status": "ok",
     "timestamp": 1742222405616,
     "user": {
      "displayName": "Julio Cesar Urquizo Gomez",
      "userId": "15247040317140376375"
     },
     "user_tz": -60
    },
    "id": "p47AC8epitFT",
    "outputId": "73765f29-4c57-4cf3-f48a-788997fd41c7"
   },
   "outputs": [
    {
     "name": "stdout",
     "output_type": "stream",
     "text": [
      "Accuracy for class: 0     is 99.2 %\n",
      "Accuracy for class: 1     is 99.2 %\n",
      "Accuracy for class: 2     is 98.9 %\n",
      "Accuracy for class: 3     is 98.7 %\n",
      "Accuracy for class: 4     is 99.9 %\n",
      "Accuracy for class: 5     is 98.9 %\n",
      "Accuracy for class: 6     is 97.6 %\n",
      "Accuracy for class: 7     is 98.2 %\n",
      "Accuracy for class: 8     is 96.5 %\n",
      "Accuracy for class: 9     is 95.2 %\n"
     ]
    }
   ],
   "source": [
    "# prepare to count predictions for each class\n",
    "correct_pred = {classname: 0 for classname in classes}\n",
    "total_pred = {classname: 0 for classname in classes}\n",
    "\n",
    "# again no gradients needed\n",
    "with torch.no_grad():\n",
    "    for data in testloader:\n",
    "        images, labels = data\n",
    "        outputs = net(images)\n",
    "        _, predictions = torch.max(outputs, 1)\n",
    "        # collect the correct predictions for each class\n",
    "        for label, prediction in zip(labels, predictions):\n",
    "            if label == prediction:\n",
    "                correct_pred[classes[label]] += 1\n",
    "            total_pred[classes[label]] += 1\n",
    "\n",
    "\n",
    "# print accuracy for each class\n",
    "for classname, correct_count in correct_pred.items():\n",
    "    accuracy = 100 * float(correct_count) / total_pred[classname]\n",
    "    print(f\"Accuracy for class: {classname:5s} is {accuracy:.1f} %\")"
   ]
  },
  {
   "cell_type": "markdown",
   "metadata": {},
   "source": [
    "EXPERIMENTO 2"
   ]
  },
  {
   "cell_type": "code",
   "execution_count": null,
   "metadata": {
    "colab": {
     "base_uri": "https://localhost:8080/"
    },
    "executionInfo": {
     "elapsed": 9099,
     "status": "ok",
     "timestamp": 1742216141168,
     "user": {
      "displayName": "Julio Cesar Urquizo Gomez",
      "userId": "15247040317140376375"
     },
     "user_tz": -60
    },
    "id": "a-qa5d7eK8hN",
    "outputId": "70e37d9e-5474-43fe-de3b-583336dc5abf"
   },
   "outputs": [],
   "source": [
    "transform = transforms.Compose([transforms.ToTensor()])\n",
    "\n",
    "# Se cambia el tamaño del batch a 8\n",
    "batch_size = 8\n",
    "\n",
    "trainset = torchvision.datasets.MNIST(\n",
    "    root=\"./data\", train=True, download=True, transform=transform\n",
    ")\n",
    "trainloader = torch.utils.data.DataLoader(\n",
    "    trainset, batch_size=batch_size, shuffle=True, num_workers=2\n",
    ")\n",
    "\n",
    "testset = torchvision.datasets.MNIST(\n",
    "    root=\"./data\", train=False, download=True, transform=transform\n",
    ")\n",
    "testloader = torch.utils.data.DataLoader(\n",
    "    testset, batch_size=batch_size, shuffle=False, num_workers=2\n",
    ")\n",
    "\n",
    "classes = (\"0\", \"1\", \"2\", \"3\", \"4\", \"5\", \"6\", \"7\", \"8\", \"9\")"
   ]
  },
  {
   "cell_type": "markdown",
   "metadata": {
    "id": "GuaQnjY5jwJ-"
   },
   "source": [
    "MODELO"
   ]
  },
  {
   "cell_type": "code",
   "execution_count": null,
   "metadata": {
    "id": "8jalvl4wMdhZ"
   },
   "outputs": [],
   "source": [
    "import torch.nn as nn\n",
    "import torch.nn.functional as F\n",
    "\n",
    "\n",
    "class Net(nn.Module):\n",
    "    def __init__(self):\n",
    "        super().__init__()\n",
    "        # Se usa padding=\"same\" para que la salida tenga el mismo tamaño que la entrada\n",
    "        # de tal forma que la salida mantenga un tamaño suficiente para las capas posteriores\n",
    "        self.conv1 = nn.Conv2d(1, 6, 3, padding=\"same\")\n",
    "        self.pool1 = nn.MaxPool2d(2, 2)\n",
    "        # Se cambia el tamaño del kernel de las capas convolucionales\n",
    "        self.conv2 = nn.Conv2d(6, 10, 3, padding=\"same\")\n",
    "        # Se modifica el tamaño del kernel del maxpooling para reducir aun más el tamaño de la salida\n",
    "        self.pool2 = nn.MaxPool2d(3, 3)\n",
    "        # Se añade una tercera capa convolucional para aumentar el número de parámetros\n",
    "        self.conv3 = nn.Conv2d(10, 16, 3, padding=\"same\")\n",
    "        self.fc1 = nn.Linear(16 * 4 * 4, 120)\n",
    "        self.fc2 = nn.Linear(120, 84)\n",
    "        self.fc3 = nn.Linear(84, 42)\n",
    "        # Se añade una cuarta capa completamente conectada\n",
    "        self.fc4 = nn.Linear(42, 10)\n",
    "\n",
    "    def forward(self, x):\n",
    "        x = self.pool1(F.relu(self.conv1(x)))\n",
    "        x = self.pool2(F.relu(self.conv2(x)))\n",
    "        x = F.relu(self.conv3(x))\n",
    "        x = torch.flatten(x, 1)\n",
    "        x = F.relu(self.fc1(x))\n",
    "        x = F.relu(self.fc2(x))\n",
    "        x = F.relu(self.fc3(x))\n",
    "        x = self.fc4(x)\n",
    "        return x\n",
    "\n",
    "\n",
    "net = Net()"
   ]
  },
  {
   "cell_type": "code",
   "execution_count": null,
   "metadata": {
    "id": "OB1yLzkMMj2N"
   },
   "outputs": [],
   "source": [
    "import torch.optim as optim\n",
    "\n",
    "criterion = nn.CrossEntropyLoss()\n",
    "# Se modifica el learning rate a uno mayor para acelerar el entrenamiento\n",
    "optimizer = optim.SGD(net.parameters(), lr=0.005, momentum=0.9)"
   ]
  },
  {
   "cell_type": "code",
   "execution_count": null,
   "metadata": {
    "colab": {
     "base_uri": "https://localhost:8080/"
    },
    "executionInfo": {
     "elapsed": 185412,
     "status": "ok",
     "timestamp": 1742216709077,
     "user": {
      "displayName": "Julio Cesar Urquizo Gomez",
      "userId": "15247040317140376375"
     },
     "user_tz": -60
    },
    "id": "9f7sxnLUMmPW",
    "outputId": "ec984de1-6732-43e8-f235-eddd51054c9d"
   },
   "outputs": [
    {
     "name": "stdout",
     "output_type": "stream",
     "text": [
      "[1,  2000] loss: 0.352\n",
      "[1,  4000] loss: 0.238\n",
      "[1,  6000] loss: 0.217\n",
      "[1,  8000] loss: 0.197\n",
      "[1, 10000] loss: 0.187\n",
      "[1, 12000] loss: 0.184\n",
      "[1, 14000] loss: 0.154\n",
      "Finished Training\n"
     ]
    }
   ],
   "source": [
    "# Tan solo se entrena por un epoch\n",
    "for epoch in range(1):  # loop over the dataset multiple times\n",
    "    running_loss = 0.0\n",
    "    for i, data in enumerate(trainloader, 0):\n",
    "        # get the inputs; data is a list of [inputs, labels]\n",
    "        inputs, labels = data\n",
    "\n",
    "        # zero the parameter gradients\n",
    "        optimizer.zero_grad()\n",
    "\n",
    "        # forward + backward + optimize\n",
    "        outputs = net(inputs)\n",
    "        loss = criterion(outputs, labels)\n",
    "        loss.backward()\n",
    "        optimizer.step()\n",
    "\n",
    "        # print statistics\n",
    "        running_loss += loss.item()\n",
    "        if i % 2000 == 1999:  # print every 2000 mini-batches\n",
    "            print(f\"[{epoch + 1}, {i + 1:5d}] loss: {running_loss / 2000:.3f}\")\n",
    "            running_loss = 0.0\n",
    "\n",
    "print(\"Finished Training\")"
   ]
  },
  {
   "cell_type": "code",
   "execution_count": 111,
   "metadata": {
    "colab": {
     "base_uri": "https://localhost:8080/"
    },
    "executionInfo": {
     "elapsed": 8897,
     "status": "ok",
     "timestamp": 1742222318175,
     "user": {
      "displayName": "Julio Cesar Urquizo Gomez",
      "userId": "15247040317140376375"
     },
     "user_tz": -60
    },
    "id": "c7hzPTSCimdy",
    "outputId": "006ddf5b-ee4f-44db-9bca-0efba23978d2"
   },
   "outputs": [
    {
     "name": "stdout",
     "output_type": "stream",
     "text": [
      "Accuracy of the network on the 10000 test images: 96 %\n"
     ]
    }
   ],
   "source": [
    "correct = 0\n",
    "total = 0\n",
    "# since we're not training, we don't need to calculate the gradients for our outputs\n",
    "with torch.no_grad():\n",
    "    for data in testloader:\n",
    "        images, labels = data\n",
    "        # calculate outputs by running images through the network\n",
    "        outputs = net(images)\n",
    "        # the class with the highest energy is what we choose as prediction\n",
    "        _, predicted = torch.max(outputs, 1)\n",
    "        total += labels.size(0)\n",
    "        correct += (predicted == labels).sum().item()\n",
    "\n",
    "print(f\"Accuracy of the network on the 10000 test images: {100 * correct // total} %\")"
   ]
  },
  {
   "cell_type": "code",
   "execution_count": 112,
   "metadata": {
    "colab": {
     "base_uri": "https://localhost:8080/"
    },
    "executionInfo": {
     "elapsed": 28398,
     "status": "ok",
     "timestamp": 1742222405616,
     "user": {
      "displayName": "Julio Cesar Urquizo Gomez",
      "userId": "15247040317140376375"
     },
     "user_tz": -60
    },
    "id": "p47AC8epitFT",
    "outputId": "73765f29-4c57-4cf3-f48a-788997fd41c7"
   },
   "outputs": [
    {
     "name": "stdout",
     "output_type": "stream",
     "text": [
      "Accuracy for class: 0     is 98.2 %\n",
      "Accuracy for class: 1     is 98.8 %\n",
      "Accuracy for class: 2     is 96.4 %\n",
      "Accuracy for class: 3     is 97.8 %\n",
      "Accuracy for class: 4     is 93.6 %\n",
      "Accuracy for class: 5     is 93.9 %\n",
      "Accuracy for class: 6     is 94.9 %\n",
      "Accuracy for class: 7     is 96.6 %\n",
      "Accuracy for class: 8     is 98.4 %\n",
      "Accuracy for class: 9     is 94.7 %\n"
     ]
    }
   ],
   "source": [
    "# prepare to count predictions for each class\n",
    "correct_pred = {classname: 0 for classname in classes}\n",
    "total_pred = {classname: 0 for classname in classes}\n",
    "\n",
    "# again no gradients needed\n",
    "with torch.no_grad():\n",
    "    for data in testloader:\n",
    "        images, labels = data\n",
    "        outputs = net(images)\n",
    "        _, predictions = torch.max(outputs, 1)\n",
    "        # collect the correct predictions for each class\n",
    "        for label, prediction in zip(labels, predictions):\n",
    "            if label == prediction:\n",
    "                correct_pred[classes[label]] += 1\n",
    "            total_pred[classes[label]] += 1\n",
    "\n",
    "\n",
    "# print accuracy for each class\n",
    "for classname, correct_count in correct_pred.items():\n",
    "    accuracy = 100 * float(correct_count) / total_pred[classname]\n",
    "    print(f\"Accuracy for class: {classname:5s} is {accuracy:.1f} %\")"
   ]
  },
  {
   "cell_type": "markdown",
   "metadata": {},
   "source": [
    "EXPERIMENTO 3"
   ]
  },
  {
   "cell_type": "code",
   "execution_count": null,
   "metadata": {
    "colab": {
     "base_uri": "https://localhost:8080/"
    },
    "executionInfo": {
     "elapsed": 9099,
     "status": "ok",
     "timestamp": 1742216141168,
     "user": {
      "displayName": "Julio Cesar Urquizo Gomez",
      "userId": "15247040317140376375"
     },
     "user_tz": -60
    },
    "id": "a-qa5d7eK8hN",
    "outputId": "70e37d9e-5474-43fe-de3b-583336dc5abf"
   },
   "outputs": [],
   "source": [
    "transform = transforms.Compose([transforms.ToTensor()])\n",
    "\n",
    "# Se cambia el tamaño del batch a 2\n",
    "batch_size = 2\n",
    "\n",
    "trainset = torchvision.datasets.MNIST(\n",
    "    root=\"./data\", train=True, download=True, transform=transform\n",
    ")\n",
    "trainloader = torch.utils.data.DataLoader(\n",
    "    trainset, batch_size=batch_size, shuffle=True, num_workers=2\n",
    ")\n",
    "\n",
    "testset = torchvision.datasets.MNIST(\n",
    "    root=\"./data\", train=False, download=True, transform=transform\n",
    ")\n",
    "testloader = torch.utils.data.DataLoader(\n",
    "    testset, batch_size=batch_size, shuffle=False, num_workers=2\n",
    ")\n",
    "\n",
    "classes = (\"0\", \"1\", \"2\", \"3\", \"4\", \"5\", \"6\", \"7\", \"8\", \"9\")"
   ]
  },
  {
   "cell_type": "markdown",
   "metadata": {
    "id": "GuaQnjY5jwJ-"
   },
   "source": [
    "MODELO"
   ]
  },
  {
   "cell_type": "code",
   "execution_count": null,
   "metadata": {
    "id": "8jalvl4wMdhZ"
   },
   "outputs": [],
   "source": [
    "import torch.nn as nn\n",
    "import torch.nn.functional as F\n",
    "\n",
    "\n",
    "class Net(nn.Module):\n",
    "    def __init__(self):\n",
    "        super().__init__()\n",
    "        self.conv1 = nn.Conv2d(1, 6, 3)\n",
    "        self.pool1 = nn.MaxPool2d(2, 2)\n",
    "        self.conv2 = nn.Conv2d(6, 10, 3)\n",
    "        self.pool2 = nn.MaxPool2d(3, 3)\n",
    "        self.conv3 = nn.Conv2d(10, 16, 3)\n",
    "        self.fc1 = nn.Linear(16 * 1 * 1, 120)\n",
    "        self.fc2 = nn.Linear(120, 84)\n",
    "        self.fc3 = nn.Linear(84, 42)\n",
    "        self.fc4 = nn.Linear(42, 10)\n",
    "\n",
    "    def forward(self, x):\n",
    "        x = self.pool1(F.relu(self.conv1(x)))\n",
    "        x = self.pool2(F.relu(self.conv2(x)))\n",
    "        x = F.relu(self.conv3(x))\n",
    "        x = torch.flatten(x, 1)\n",
    "        x = F.relu(self.fc1(x))\n",
    "        x = F.relu(self.fc2(x))\n",
    "        x = F.relu(self.fc3(x))\n",
    "        x = self.fc4(x)\n",
    "        return x\n",
    "\n",
    "\n",
    "net = Net()"
   ]
  },
  {
   "cell_type": "code",
   "execution_count": null,
   "metadata": {
    "id": "OB1yLzkMMj2N"
   },
   "outputs": [],
   "source": [
    "import torch.optim as optim\n",
    "\n",
    "criterion = nn.CrossEntropyLoss()\n",
    "optimizer = optim.SGD(net.parameters(), lr=0.005, momentum=0.9)"
   ]
  },
  {
   "cell_type": "code",
   "execution_count": 120,
   "metadata": {
    "colab": {
     "base_uri": "https://localhost:8080/"
    },
    "executionInfo": {
     "elapsed": 185412,
     "status": "ok",
     "timestamp": 1742216709077,
     "user": {
      "displayName": "Julio Cesar Urquizo Gomez",
      "userId": "15247040317140376375"
     },
     "user_tz": -60
    },
    "id": "9f7sxnLUMmPW",
    "outputId": "ec984de1-6732-43e8-f235-eddd51054c9d"
   },
   "outputs": [
    {
     "name": "stdout",
     "output_type": "stream",
     "text": [
      "[1,  2000] loss: 2.306\n",
      "[1,  4000] loss: 2.306\n",
      "[1,  6000] loss: 2.305\n",
      "[1,  8000] loss: 2.305\n",
      "[1, 10000] loss: 2.304\n",
      "[1, 12000] loss: 2.307\n",
      "[1, 14000] loss: 2.305\n",
      "Finished Training\n"
     ]
    }
   ],
   "source": [
    "# Tan solo se entrena por un epoch\n",
    "for epoch in range(1):  # loop over the dataset multiple times\n",
    "    running_loss = 0.0\n",
    "    for i, data in enumerate(trainloader, 0):\n",
    "        # get the inputs; data is a list of [inputs, labels]\n",
    "        inputs, labels = data\n",
    "\n",
    "        # zero the parameter gradients\n",
    "        optimizer.zero_grad()\n",
    "\n",
    "        # forward + backward + optimize\n",
    "        outputs = net(inputs)\n",
    "        loss = criterion(outputs, labels)\n",
    "        loss.backward()\n",
    "        optimizer.step()\n",
    "\n",
    "        # print statistics\n",
    "        running_loss += loss.item()\n",
    "        if i % 2000 == 1999:  # print every 2000 mini-batches\n",
    "            print(f\"[{epoch + 1}, {i + 1:5d}] loss: {running_loss / 2000:.3f}\")\n",
    "            running_loss = 0.0\n",
    "\n",
    "print(\"Finished Training\")"
   ]
  },
  {
   "cell_type": "code",
   "execution_count": 121,
   "metadata": {
    "colab": {
     "base_uri": "https://localhost:8080/"
    },
    "executionInfo": {
     "elapsed": 8897,
     "status": "ok",
     "timestamp": 1742222318175,
     "user": {
      "displayName": "Julio Cesar Urquizo Gomez",
      "userId": "15247040317140376375"
     },
     "user_tz": -60
    },
    "id": "c7hzPTSCimdy",
    "outputId": "006ddf5b-ee4f-44db-9bca-0efba23978d2"
   },
   "outputs": [
    {
     "name": "stdout",
     "output_type": "stream",
     "text": [
      "Accuracy of the network on the 10000 test images: 10 %\n"
     ]
    }
   ],
   "source": [
    "correct = 0\n",
    "total = 0\n",
    "# since we're not training, we don't need to calculate the gradients for our outputs\n",
    "with torch.no_grad():\n",
    "    for data in testloader:\n",
    "        images, labels = data\n",
    "        # calculate outputs by running images through the network\n",
    "        outputs = net(images)\n",
    "        # the class with the highest energy is what we choose as prediction\n",
    "        _, predicted = torch.max(outputs, 1)\n",
    "        total += labels.size(0)\n",
    "        correct += (predicted == labels).sum().item()\n",
    "\n",
    "print(f\"Accuracy of the network on the 10000 test images: {100 * correct // total} %\")"
   ]
  },
  {
   "cell_type": "code",
   "execution_count": 122,
   "metadata": {
    "colab": {
     "base_uri": "https://localhost:8080/"
    },
    "executionInfo": {
     "elapsed": 28398,
     "status": "ok",
     "timestamp": 1742222405616,
     "user": {
      "displayName": "Julio Cesar Urquizo Gomez",
      "userId": "15247040317140376375"
     },
     "user_tz": -60
    },
    "id": "p47AC8epitFT",
    "outputId": "73765f29-4c57-4cf3-f48a-788997fd41c7"
   },
   "outputs": [
    {
     "name": "stdout",
     "output_type": "stream",
     "text": [
      "Accuracy for class: 0     is 0.0 %\n",
      "Accuracy for class: 1     is 0.0 %\n",
      "Accuracy for class: 2     is 0.0 %\n",
      "Accuracy for class: 3     is 100.0 %\n",
      "Accuracy for class: 4     is 0.0 %\n",
      "Accuracy for class: 5     is 0.0 %\n",
      "Accuracy for class: 6     is 0.0 %\n",
      "Accuracy for class: 7     is 0.0 %\n",
      "Accuracy for class: 8     is 0.0 %\n",
      "Accuracy for class: 9     is 0.0 %\n"
     ]
    }
   ],
   "source": [
    "# prepare to count predictions for each class\n",
    "correct_pred = {classname: 0 for classname in classes}\n",
    "total_pred = {classname: 0 for classname in classes}\n",
    "\n",
    "# again no gradients needed\n",
    "with torch.no_grad():\n",
    "    for data in testloader:\n",
    "        images, labels = data\n",
    "        outputs = net(images)\n",
    "        _, predictions = torch.max(outputs, 1)\n",
    "        # collect the correct predictions for each class\n",
    "        for label, prediction in zip(labels, predictions):\n",
    "            if label == prediction:\n",
    "                correct_pred[classes[label]] += 1\n",
    "            total_pred[classes[label]] += 1\n",
    "\n",
    "\n",
    "# print accuracy for each class\n",
    "for classname, correct_count in correct_pred.items():\n",
    "    accuracy = 100 * float(correct_count) / total_pred[classname]\n",
    "    print(f\"Accuracy for class: {classname:5s} is {accuracy:.1f} %\")"
   ]
  },
  {
   "cell_type": "markdown",
   "metadata": {
    "id": "-CENZOlDPLB2"
   },
   "source": [
    "## Aprendizaje\n",
    "\n",
    "**1. ¿Qué significa que el batch_size sea 4? Explica cómo afectaría al cálculo de los pesos en cada epoch.**\n",
    "\n",
    "Que el batch size sea 4 significa que por cada iteracion se le dan al modelo 4 muestras al mismo tiempo. Depende de la cantidad de conjuntos definidos, afecta a la capacidad de generaización del modelo.\n",
    "\n",
    "**2. ¿Por qué al dividir el conjunto de entrenamiento el parámetro shuffle está a True, mientras que en el conjunto de test está a False?**\n",
    "\n",
    "Para que los resultados de la prueba sean consistentes.\n",
    "\n",
    "**3. Revisa la constructora de la clase Net:\n",
    "a. En el constructor, describe cada línea y explica la configuración de cada capa creada.\n",
    "Importante: hay que describir cada parámetro de cada línea. Ten en cuenta que hay algunos parámetros que se pueden personalizar al gusto del programador, pero hay otros que dependen del tamaño de las imágenes (32x32) y del número de clases que tenemos.\n",
    "b. En la función forward, explica cada línea de código describiendo el proceso de forward\n",
    "propagation.**\n",
    "\n",
    "```py\n",
    "class Net(nn.Module):\n",
    "    def __init__(self):\n",
    "        super().__init__()\n",
    "        # La primera capa convolucional es de dos dimensiones, por lo tanto el vector de entrada es de 3 dimensiones.\n",
    "        # Admite 3 canales de entrada, referenciandose a una imagen a color, y aumenta a 6 canales para extraer las caracteristicas de la imagen.\n",
    "        # El último valor indica el tamaño del kernel, en este caso de 5x5.\n",
    "        self.conv1 = nn.Conv2d(3, 6, 5)\n",
    "        # Se reduce la resolución de la imagen a la mitad.\n",
    "        self.pool = nn.MaxPool2d(2, 2)\n",
    "        # Se aumenta el tamaño de los canales de 6 a 16 canales.\n",
    "        self.conv2 = nn.Conv2d(6, 16, 5)\n",
    "        # Una vez aplanado el tamaño de caracteristicas, se aplica una capa completamente conectada. Progresivamente, se disminuye el tamaño de características hasta el número de categorias deseadas, en este caso, 10.\n",
    "        self.fc1 = nn.Linear(16 * 5 * 5, 120)\n",
    "        self.fc2 = nn.Linear(120, 84)\n",
    "        self.fc3 = nn.Linear(84, 10)\n",
    "\n",
    "    def forward(self, x):\n",
    "        # Se aplica secuencialmente el primer bloque convolucional que consiste en: una capa convolucional, la funcion de activacion y una capa de pool.\n",
    "        x = self.pool(F.relu(self.conv1(x)))\n",
    "        # Se aplica el segundo bloque convolucional.\n",
    "        x = self.pool(F.relu(self.conv2(x)))\n",
    "        # Se aplanan todas las dimensiones excepto el batch.\n",
    "        x = torch.flatten(x, 1)\n",
    "        # Se finaliza aplicando las capas totalmente conectadas hasta llegar al número de características finales.\n",
    "        x = F.relu(self.fc1(x))\n",
    "        x = F.relu(self.fc2(x))\n",
    "        # En esta ultima capa no se activa la funcion de activacion para coger el resultado mayor.\n",
    "        x = self.fc3(x)\n",
    "        return x\n",
    "```\n",
    "\n",
    "**4. Indica la línea de código donde se realiza el cálculo de los gradientes para determinar cómo modificar los pesos (los filtros kernel), e indica la línea de código donde se recalculan los pesos.**\n",
    "\n",
    "\\# Forward pass\n",
    "\n",
    "outputs = net(inputs)\n",
    "\n",
    "\\# Calculo de la perdida\n",
    "\n",
    "loss = criterion(outputs, labels)\n",
    "\n",
    "\\# Calculo de las actualizacion de los gradientes.\n",
    "\n",
    "loss.backward()\n",
    "\n",
    "\\# Actualizacion de la iteracion del optimizador.\n",
    "\n",
    "optimizer.step()\n",
    "\n",
    "**¿Qué se ha tenido que realizar antes para poder hacer el cálculo de gradientes y la actualización de pesos?**\n",
    "\n",
    "Se han tenido que reiniciar los gradientes a 0, realizar el forward pass y calcular la pérdida.\n",
    "\n",
    "**5. ¿Cuál es la estructura de los outputs que se obtienen en outputs = net(images)?**\n",
    "\n",
    "Tiene la dimensión correspondiente a la energía (la energía es un valor no acotado que determina la correspondencia de cada clase) de cada clase a la cual pertenece y otra dimensión con el tamaño de batch."
   ]
  },
  {
   "cell_type": "markdown",
   "metadata": {},
   "source": [
    "## Práctica\n",
    "\n",
    "La accuracy del experimento 3 es signifcativamente menor al resto de experimentos, principalmente debido a la falta de tamaño de las caracteristicas. Esto es causado por la excesiva disminucion de la altura y anchura del mapa de caracteristicas por el tamaño del kernel de las capas convolucionales y de pooling. El experimento 2, en cambio, corrige el error manteniendo el tamaño de entrada en las capas convolucionales, posibilitando el aprendizaje de un mayor número de parámetros.\n",
    "\n",
    "La accuracy de los experimentos 1 y 2 es comparable cercana a 100%, dificultando la posibilidad de mejora, sobre todo sin caer en el overfitting."
   ]
  }
 ],
 "metadata": {
  "colab": {
   "authorship_tag": "ABX9TyMWpJCQCRjMcbO3QlolMk9a",
   "provenance": []
  },
  "kernelspec": {
   "display_name": "Python 3",
   "name": "python3"
  },
  "language_info": {
   "codemirror_mode": {
    "name": "ipython",
    "version": 3
   },
   "file_extension": ".py",
   "mimetype": "text/x-python",
   "name": "python",
   "nbconvert_exporter": "python",
   "pygments_lexer": "ipython3",
   "version": "3.12.4"
  }
 },
 "nbformat": 4,
 "nbformat_minor": 0
}
