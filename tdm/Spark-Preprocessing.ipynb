{
    "cells": [
        {
            "cell_type": "markdown",
            "id": "bf7414b0-4d52-4657-aac0-963c54d12008",
            "metadata": {},
            "source": [
                "# Spark - Ejercicios Dataframes y preprocesado (refuerzo)\n",
                "## Por Pablo C. Cañizares"
            ]
        },
        {
            "cell_type": "code",
            "execution_count": 2,
            "id": "a4bdf10a-1c23-4b2c-a051-6d0561c4185d",
            "metadata": {},
            "outputs": [
                {
                    "name": "stderr",
                    "output_type": "stream",
                    "text": [
                        "24/10/14 13:07:56 WARN Utils: Your hostname, ubuntu resolves to a loopback address: 127.0.1.1; using 192.168.1.101 instead (on interface wlp0s20f3)\n",
                        "24/10/14 13:07:56 WARN Utils: Set SPARK_LOCAL_IP if you need to bind to another address\n",
                        "Setting default log level to \"WARN\".\n",
                        "To adjust logging level use sc.setLogLevel(newLevel). For SparkR, use setLogLevel(newLevel).\n",
                        "24/10/14 13:08:06 WARN NativeCodeLoader: Unable to load native-hadoop library for your platform... using builtin-java classes where applicable\n"
                    ]
                },
                {
                    "name": "stdout",
                    "output_type": "stream",
                    "text": [
                        "+-----+\n",
                        "| hola|\n",
                        "+-----+\n",
                        "|spark|\n",
                        "+-----+\n",
                        "\n"
                    ]
                },
                {
                    "name": "stderr",
                    "output_type": "stream",
                    "text": [
                        "24/10/14 13:08:17 WARN GarbageCollectionMetrics: To enable non-built-in garbage collector(s) List(G1 Concurrent GC), users should configure it(them) to spark.eventLog.gcMetrics.youngGenerationGarbageCollectors or spark.eventLog.gcMetrics.oldGenerationGarbageCollectors\n"
                    ]
                }
            ],
            "source": [
                "import findspark\n",
                "\n",
                "findspark.init()\n",
                "\n",
                "import pyspark  # only run after findspark.init()\n",
                "from pyspark.sql import SparkSession\n",
                "\n",
                "spark = SparkSession.builder.getOrCreate()\n",
                "\n",
                "df = spark.sql(\"\"\"select 'spark' as hola \"\"\")\n",
                "df.show()"
            ]
        },
        {
            "cell_type": "markdown",
            "id": "6cc8e18a-e2fb-4095-a255-b445ae5d7d9c",
            "metadata": {},
            "source": [
                "### Ejercicio 1: Carga de fichero CSV con dataframes y selecciones de columnas"
            ]
        },
        {
            "cell_type": "code",
            "execution_count": 110,
            "id": "a0ecb4ee-0bc2-4dda-b68d-7521f3a0f814",
            "metadata": {},
            "outputs": [
                {
                    "name": "stdout",
                    "output_type": "stream",
                    "text": [
                        "+---+---------+---------+-----+-------+------------------+------------+------------+------------+\n",
                        "| no|id.orig_p|id.resp_p|proto|service|     flow_duration|fwd_pkts_tot|bwd_pkts_tot| Attack_type|\n",
                        "+---+---------+---------+-----+-------+------------------+------------+------------+------------+\n",
                        "|  0|    38667|     1883|  tcp|   mqtt|         32.011598|           9|           5|MQTT_Publish|\n",
                        "|  1|    51143|     1883|  tcp|   mqtt|31.883584000000006|           9|           5|MQTT_Publish|\n",
                        "|  2|    44761|     1883|  tcp|   mqtt|         32.124053|           9|           5|MQTT_Publish|\n",
                        "|  3|    60893|     1883|  tcp|   mqtt|         31.961063|           9|           5|MQTT_Publish|\n",
                        "|  4|    51087|     1883|  tcp|   mqtt|         31.902362|           9|           5|MQTT_Publish|\n",
                        "|  5|    48579|     1883|  tcp|   mqtt|         31.869686|           9|           5|MQTT_Publish|\n",
                        "|  6|    54063|     1883|  tcp|   mqtt|         32.094711|           9|           5|MQTT_Publish|\n",
                        "|  7|    33457|     1883|  tcp|   mqtt|         32.104011|           9|           5|MQTT_Publish|\n",
                        "|  8|    52181|     1883|  tcp|   mqtt|         32.026967|           9|           5|MQTT_Publish|\n",
                        "|  9|    53469|     1883|  tcp|   mqtt|         32.048637|           9|           5|MQTT_Publish|\n",
                        "| 10|    54153|     1883|  tcp|   mqtt|          1.977057|           9|           5|MQTT_Publish|\n",
                        "| 11|    39671|     1883|  tcp|   mqtt|        931.962308|           9|           5|MQTT_Publish|\n",
                        "| 12|    44225|     1883|  tcp|   mqtt|         31.965302|           9|           5|MQTT_Publish|\n",
                        "| 13|    51495|     1883|  tcp|   mqtt|         31.885127|           9|           5|MQTT_Publish|\n",
                        "| 14|    42037|     1883|  tcp|   mqtt|31.926578000000006|           9|           5|MQTT_Publish|\n",
                        "| 15|    36349|     1883|  tcp|   mqtt|32.061415999999994|           9|           5|MQTT_Publish|\n",
                        "| 16|    39763|     1883|  tcp|   mqtt|         32.025109|           9|           5|MQTT_Publish|\n",
                        "| 17|    57501|     1883|  tcp|   mqtt|         31.908247|           9|           5|MQTT_Publish|\n",
                        "| 18|    56117|     1883|  tcp|   mqtt|         32.009238|           9|           5|MQTT_Publish|\n",
                        "| 19|    44927|     1883|  tcp|   mqtt|         31.930485|           9|           5|MQTT_Publish|\n",
                        "+---+---------+---------+-----+-------+------------------+------------+------------+------------+\n",
                        "only showing top 20 rows\n",
                        "\n"
                    ]
                },
                {
                    "name": "stderr",
                    "output_type": "stream",
                    "text": [
                        "                                                                                \r"
                    ]
                }
            ],
            "source": [
                "# Cargar archivo CSV como DataFrame\n",
                "df = spark.read.csv(\"RT_IOT2022_v2.csv\", header=True, inferSchema=True)\n",
                "\n",
                "# Seleccionar las columnas especificadas\n",
                "columns_to_keep = ['no', '`id.orig_p`', '`id.resp_p`', 'proto', 'service', 'flow_duration', 'fwd_pkts_tot', 'bwd_pkts_tot', 'Attack_type']\n",
                "df_selected = df.select(columns_to_keep)\n",
                "\n",
                "# Mostrar las primeras filas del DataFrame resultante\n",
                "df_selected.show()"
            ]
        },
        {
            "cell_type": "markdown",
            "id": "ba26b28d-1805-4aa6-ade9-8797334777dc",
            "metadata": {},
            "source": [
                "### Ejercicio 2: Consulta básica con SparkSQL\n",
                "\n",
                "Registra el DataFrame como una tabla temporal y utiliza una consulta SQL para mostrar los primeros 5 registros que tengan una duración de flujo (flow_duration) mayor a 10 segundos. Analiza y realiza el resto de consultas.\n",
                "a) Utilizando filter\n",
                "b) Utilizando tabla temporal (extra)\n"
            ]
        },
        {
            "cell_type": "code",
            "execution_count": 1,
            "id": "26eee629-7a12-4339-871b-8ebfc6bb7f01",
            "metadata": {},
            "outputs": [
                {
                    "ename": "NameError",
                    "evalue": "name 'df' is not defined",
                    "output_type": "error",
                    "traceback": [
                        "\u001b[0;31m---------------------------------------------------------------------------\u001b[0m",
                        "\u001b[0;31mNameError\u001b[0m                                 Traceback (most recent call last)",
                        "Cell \u001b[0;32mIn[1], line 2\u001b[0m\n\u001b[1;32m      1\u001b[0m \u001b[38;5;66;03m# Filter y select\u001b[39;00m\n\u001b[0;32m----> 2\u001b[0m df_selected \u001b[38;5;241m=\u001b[39m \u001b[43mdf\u001b[49m\u001b[38;5;241m.\u001b[39mfilter(\u001b[38;5;28;01mlambda\u001b[39;00m x: x[\u001b[38;5;124m\"\u001b[39m\u001b[38;5;124mflow_duration\u001b[39m\u001b[38;5;124m\"\u001b[39m] \u001b[38;5;241m>\u001b[39m \u001b[38;5;241m10\u001b[39m)\n\u001b[1;32m      3\u001b[0m \u001b[38;5;66;03m# Utilizando tablas temporales\u001b[39;00m\n",
                        "\u001b[0;31mNameError\u001b[0m: name 'df' is not defined"
                    ]
                }
            ],
            "source": [
                "# Filter y select\n",
                "\n",
                "# Utilizando tablas temporales\n"
            ]
        },
        {
            "cell_type": "markdown",
            "id": "144abc68-9d2c-4c89-b5f0-96ea018a8d7e",
            "metadata": {},
            "source": [
                "### Ejercicio 3: Uso de SparkSQL para contar ataques\n",
                "\n",
                "Usa una consulta en SparkSQL para contar cuántos registros hay por cada tipo de ataque."
            ]
        },
        {
            "cell_type": "code",
            "execution_count": 114,
            "id": "4501f287-fa6f-4c5d-8104-9b9e7e41d24b",
            "metadata": {},
            "outputs": [
                {
                    "name": "stdout",
                    "output_type": "stream",
                    "text": [
                        "+--------------------+-----+\n",
                        "|         Attack_type|count|\n",
                        "+--------------------+-----+\n",
                        "|         Thing_Speak| 8108|\n",
                        "|          Wipro_bulb|  253|\n",
                        "|        MQTT_Publish| 4146|\n",
                        "|      ARP_poisioning| 7750|\n",
                        "|       DOS_SYN_Hping|94659|\n",
                        "|      DDOS_Slowloris|  534|\n",
                        "|       NMAP_UDP_SCAN| 2590|\n",
                        "| NMAP_XMAS_TREE_SCAN| 2010|\n",
                        "|       NMAP_TCP_scan| 1002|\n",
                        "|       NMAP_FIN_SCAN|   28|\n",
                        "|Metasploit_Brute_...|   37|\n",
                        "|   NMAP_OS_DETECTION| 2000|\n",
                        "+--------------------+-----+\n",
                        "\n"
                    ]
                }
            ],
            "source": [
                "# Registrar el DataFrame como una tabla temporal\n",
                "df_selected.createOrReplaceTempView(\"iot_data\")\n",
                "\n",
                "#solución\n"
            ]
        },
        {
            "cell_type": "markdown",
            "id": "9355ee49-de53-467e-a6f4-733b5eddb7a6",
            "metadata": {},
            "source": [
                "### Ejercicio 4: Calcular la media, el mínimo y el máximo de la columna flow_duration"
            ]
        },
        {
            "cell_type": "code",
            "execution_count": 116,
            "id": "f04f46e2-4581-48dc-9b87-4d17399f5606",
            "metadata": {},
            "outputs": [
                {
                    "name": "stdout",
                    "output_type": "stream",
                    "text": [
                        "+------------------+---+------------+\n",
                        "|mean              |min|max         |\n",
                        "+------------------+---+------------+\n",
                        "|3.8166322189869506|0.0|21728.335578|\n",
                        "+------------------+---+------------+\n",
                        "\n"
                    ]
                }
            ],
            "source": [
                "#solución\n"
            ]
        },
        {
            "cell_type": "markdown",
            "id": "dfa79b2f-be03-410b-ba06-327e2b6aeb06",
            "metadata": {},
            "source": [
                "### Ejercicio 5: Eliminación de filas con valores inválidos\n",
                "\n",
                "Elimina las filas que contienen valores nulos o inválidos en cualquier columna crítica, como"
            ]
        },
        {
            "cell_type": "code",
            "execution_count": 118,
            "id": "071ed1ee-86fe-4afd-b996-9aebbc73f459",
            "metadata": {},
            "outputs": [
                {
                    "name": "stdout",
                    "output_type": "stream",
                    "text": [
                        "123117\n",
                        "123117\n",
                        "+---+---------+---------+-----+-------+------------------+------------+------------+------------+\n",
                        "| no|id.orig_p|id.resp_p|proto|service|     flow_duration|fwd_pkts_tot|bwd_pkts_tot| Attack_type|\n",
                        "+---+---------+---------+-----+-------+------------------+------------+------------+------------+\n",
                        "|  0|    38667|     1883|  tcp|   mqtt|         32.011598|           9|           5|MQTT_Publish|\n",
                        "|  1|    51143|     1883|  tcp|   mqtt|31.883584000000006|           9|           5|MQTT_Publish|\n",
                        "|  2|    44761|     1883|  tcp|   mqtt|         32.124053|           9|           5|MQTT_Publish|\n",
                        "|  3|    60893|     1883|  tcp|   mqtt|         31.961063|           9|           5|MQTT_Publish|\n",
                        "|  4|    51087|     1883|  tcp|   mqtt|         31.902362|           9|           5|MQTT_Publish|\n",
                        "|  5|    48579|     1883|  tcp|   mqtt|         31.869686|           9|           5|MQTT_Publish|\n",
                        "|  6|    54063|     1883|  tcp|   mqtt|         32.094711|           9|           5|MQTT_Publish|\n",
                        "|  7|    33457|     1883|  tcp|   mqtt|         32.104011|           9|           5|MQTT_Publish|\n",
                        "|  8|    52181|     1883|  tcp|   mqtt|         32.026967|           9|           5|MQTT_Publish|\n",
                        "|  9|    53469|     1883|  tcp|   mqtt|         32.048637|           9|           5|MQTT_Publish|\n",
                        "| 10|    54153|     1883|  tcp|   mqtt|          1.977057|           9|           5|MQTT_Publish|\n",
                        "| 11|    39671|     1883|  tcp|   mqtt|        931.962308|           9|           5|MQTT_Publish|\n",
                        "| 12|    44225|     1883|  tcp|   mqtt|         31.965302|           9|           5|MQTT_Publish|\n",
                        "| 13|    51495|     1883|  tcp|   mqtt|         31.885127|           9|           5|MQTT_Publish|\n",
                        "| 14|    42037|     1883|  tcp|   mqtt|31.926578000000006|           9|           5|MQTT_Publish|\n",
                        "| 15|    36349|     1883|  tcp|   mqtt|32.061415999999994|           9|           5|MQTT_Publish|\n",
                        "| 16|    39763|     1883|  tcp|   mqtt|         32.025109|           9|           5|MQTT_Publish|\n",
                        "| 17|    57501|     1883|  tcp|   mqtt|         31.908247|           9|           5|MQTT_Publish|\n",
                        "| 18|    56117|     1883|  tcp|   mqtt|         32.009238|           9|           5|MQTT_Publish|\n",
                        "| 19|    44927|     1883|  tcp|   mqtt|         31.930485|           9|           5|MQTT_Publish|\n",
                        "+---+---------+---------+-----+-------+------------------+------------+------------+------------+\n",
                        "only showing top 20 rows\n",
                        "\n"
                    ]
                }
            ],
            "source": [
                "#solución\n"
            ]
        },
        {
            "cell_type": "markdown",
            "id": "453399d7-99e9-4516-8323-3a55d5cf1a1c",
            "metadata": {},
            "source": [
                "### Ejercicio 6: Detección de outliers en la duración del flujo\n",
                "\n",
                "Detecta outliers en la columna flow_duration usando el rango intercuartílico (IQR)."
            ]
        },
        {
            "cell_type": "code",
            "execution_count": 120,
            "id": "65fdc3eb-ed97-4794-9959-575ffc1d4b73",
            "metadata": {},
            "outputs": [
                {
                    "name": "stdout",
                    "output_type": "stream",
                    "text": [
                        "lower bound:  -5.000000000000001e-06\n",
                        "upper bound:  1.1000000000000001e-05\n",
                        "median:  4e-06\n",
                        "+---+---------+---------+-----+-------+------------------+------------+------------+------------+\n",
                        "| no|id.orig_p|id.resp_p|proto|service|     flow_duration|fwd_pkts_tot|bwd_pkts_tot| Attack_type|\n",
                        "+---+---------+---------+-----+-------+------------------+------------+------------+------------+\n",
                        "|  0|    38667|     1883|  tcp|   mqtt|         32.011598|           9|           5|MQTT_Publish|\n",
                        "|  1|    51143|     1883|  tcp|   mqtt|31.883584000000006|           9|           5|MQTT_Publish|\n",
                        "|  2|    44761|     1883|  tcp|   mqtt|         32.124053|           9|           5|MQTT_Publish|\n",
                        "|  3|    60893|     1883|  tcp|   mqtt|         31.961063|           9|           5|MQTT_Publish|\n",
                        "|  4|    51087|     1883|  tcp|   mqtt|         31.902362|           9|           5|MQTT_Publish|\n",
                        "|  5|    48579|     1883|  tcp|   mqtt|         31.869686|           9|           5|MQTT_Publish|\n",
                        "|  6|    54063|     1883|  tcp|   mqtt|         32.094711|           9|           5|MQTT_Publish|\n",
                        "|  7|    33457|     1883|  tcp|   mqtt|         32.104011|           9|           5|MQTT_Publish|\n",
                        "|  8|    52181|     1883|  tcp|   mqtt|         32.026967|           9|           5|MQTT_Publish|\n",
                        "|  9|    53469|     1883|  tcp|   mqtt|         32.048637|           9|           5|MQTT_Publish|\n",
                        "| 10|    54153|     1883|  tcp|   mqtt|          1.977057|           9|           5|MQTT_Publish|\n",
                        "| 11|    39671|     1883|  tcp|   mqtt|        931.962308|           9|           5|MQTT_Publish|\n",
                        "| 12|    44225|     1883|  tcp|   mqtt|         31.965302|           9|           5|MQTT_Publish|\n",
                        "| 13|    51495|     1883|  tcp|   mqtt|         31.885127|           9|           5|MQTT_Publish|\n",
                        "| 14|    42037|     1883|  tcp|   mqtt|31.926578000000006|           9|           5|MQTT_Publish|\n",
                        "| 15|    36349|     1883|  tcp|   mqtt|32.061415999999994|           9|           5|MQTT_Publish|\n",
                        "| 16|    39763|     1883|  tcp|   mqtt|         32.025109|           9|           5|MQTT_Publish|\n",
                        "| 17|    57501|     1883|  tcp|   mqtt|         31.908247|           9|           5|MQTT_Publish|\n",
                        "| 18|    56117|     1883|  tcp|   mqtt|         32.009238|           9|           5|MQTT_Publish|\n",
                        "| 19|    44927|     1883|  tcp|   mqtt|         31.930485|           9|           5|MQTT_Publish|\n",
                        "+---+---------+---------+-----+-------+------------------+------------+------------+------------+\n",
                        "only showing top 20 rows\n",
                        "\n"
                    ]
                }
            ],
            "source": [
                "from pyspark.sql.functions import expr\n",
                "\n",
                "# Calcular Q1, mediana. Q3 e IQR\n",
                "quantiles = df_selected.approxQuantile(\"flow_duration\", [0.25, 0.5, 0.75], 0.01)\n",
                "\n",
                "#solución\n",
                "\n",
                "print(\"lower bound: \",lower_bound)\n",
                "print(\"upper bound: \",upper_bound)\n",
                "print(\"median: \",median)\n",
                "\n",
                "# Mostrar outliers\n",
                "df_outliers.show()"
            ]
        },
        {
            "cell_type": "markdown",
            "id": "d2f64334-aff2-4449-8cdd-d38ad294598f",
            "metadata": {},
            "source": [
                "### Ejercicio 7: Cálculo de histograma"
            ]
        },
        {
            "cell_type": "code",
            "execution_count": 122,
            "id": "a2bdb1a1-5687-4495-9456-7928b277838d",
            "metadata": {},
            "outputs": [
                {
                    "data": {
                        "image/png": "[encoded data removed]",
                        "text/plain": [
                            "<Figure size 1000x600 with 1 Axes>"
                        ]
                    },
                    "metadata": {},
                    "output_type": "display_data"
                }
            ],
            "source": [
                "# Importar librerías necesarias\n",
                "import matplotlib.pyplot as plt\n",
                "\n",
                "# solución\n",
                "\n",
                "# Mostrar el gráfico\n",
                "plt.show()"
            ]
        },
        {
            "cell_type": "code",
            "execution_count": null,
            "id": "8787f1a6-68b9-460e-ba34-8b1ab8fe8584",
            "metadata": {},
            "outputs": [],
            "source": []
        },
        {
            "cell_type": "markdown",
            "id": "4fdedfd7-c02a-4821-afad-954e22823d1a",
            "metadata": {},
            "source": [
                "### Ejercicio 8: Mostar un boxplot con el historial de la columna flow_duration \n",
                "Hay ocasiones en el que un histograma no muestra toda la información posible, en este ejercicio se solicita mostrar un boxplot para poder analizar mejor el problema"
            ]
        },
        {
            "cell_type": "code",
            "execution_count": 124,
            "id": "4f249709-103c-4b35-9937-7971d0cb238d",
            "metadata": {},
            "outputs": [
                {
                    "data": {
                        "image/png": "[encoded data removed]",
                        "text/plain": [
                            "<Figure size 800x600 with 1 Axes>"
                        ]
                    },
                    "metadata": {},
                    "output_type": "display_data"
                }
            ],
            "source": [
                "# Importar librerías necesarias\n",
                "import matplotlib.pyplot as plt\n",
                "\n",
                "# solución\n",
                "\n",
                "# Mostrar el gráfico\n",
                "plt.show()"
            ]
        },
        {
            "cell_type": "markdown",
            "id": "93d5c681-c2d2-4f7c-b668-b1208f5b517f",
            "metadata": {},
            "source": [
                "### Ejercicio 8: Cálculo de moda"
            ]
        },
        {
            "cell_type": "code",
            "execution_count": 126,
            "id": "0e77ba72-e152-40b7-b722-549e0e7c3cb8",
            "metadata": {},
            "outputs": [
                {
                    "data": {
                        "image/png": "[encoded data removed]",
                        "text/plain": [
                            "<Figure size 600x400 with 1 Axes>"
                        ]
                    },
                    "metadata": {},
                    "output_type": "display_data"
                }
            ],
            "source": [
                "from pyspark.sql import functions as F\n",
                "import matplotlib.pyplot as plt\n",
                "\n",
                "# solución\n",
                "\n",
                "# Mostrar el gráfico\n",
                "plt.show()"
            ]
        },
        {
            "cell_type": "markdown",
            "id": "b1e46241-7e86-415e-b840-00c5ffa30b25",
            "metadata": {},
            "source": [
                "### Ejercicio 9: Cálculo de correlaciones"
            ]
        },
        {
            "cell_type": "code",
            "execution_count": 128,
            "id": "042d6303-c0fb-49b0-9c6d-9263b62a5789",
            "metadata": {},
            "outputs": [
                {
                    "name": "stdout",
                    "output_type": "stream",
                    "text": [
                        "Correlación entre flow_duration y fwd_pkts_tot: 0.7415701934915049\n",
                        "Correlación entre flow_duration y Attack_type: 0.0713854023649293\n"
                    ]
                }
            ],
            "source": [
                "# Calcular la correlación entre flow_duration y fwd_pkts_tot\n",
                "# solución\n",
                "print(f\"Correlación entre flow_duration y fwd_pkts_tot: {correlation_duration_fwd_pkts}\")\n",
                "\n",
                "# Calcular la correlación entre flow_duration y bwd_pkts_tot\n",
                "# solución\n",
                "print(f\"Correlación entre flow_duration y Attack_type: {correlation_duration_bwd_pkts}\")"
            ]
        },
        {
            "cell_type": "markdown",
            "id": "63e8bd11-de15-4361-90d5-da34ba0972db",
            "metadata": {},
            "source": [
                "### Ejercicio 10 (EXTRA ML): Normalización de las columnas numéricas\n",
                "\n",
                "Aplica normalización en las columnas numéricas de flow_duration.\n"
            ]
        },
        {
            "cell_type": "code",
            "execution_count": 130,
            "id": "37f98fd5-8eb7-41da-a228-e2367bc8d887",
            "metadata": {},
            "outputs": [
                {
                    "name": "stderr",
                    "output_type": "stream",
                    "text": [
                        "                                                                                \r"
                    ]
                },
                {
                    "name": "stdout",
                    "output_type": "stream",
                    "text": [
                        "+--------------------+\n",
                        "|     scaled_features|\n",
                        "+--------------------+\n",
                        "|[0.00147326507753...|\n",
                        "|[0.00146737350799...|\n",
                        "|[0.00147844057749...|\n",
                        "|[0.00147093931264...|\n",
                        "|[0.00146823772513...|\n",
                        "|[0.00146673388238...|\n",
                        "|[0.00147709017493...|\n",
                        "|[0.00147751818747...|\n",
                        "|[0.00147397240276...|\n",
                        "|[0.00147496971799...|\n",
                        "|[9.09898042076345...|\n",
                        "|[0.04289156454963...|\n",
                        "|[0.00147113440351...|\n",
                        "|[0.00146744452125...|\n",
                        "|[0.00146935221454...|\n",
                        "|[0.00147555784403...|\n",
                        "|[0.00147388689230...|\n",
                        "|[0.00146850856962...|\n",
                        "|[0.00147315646359...|\n",
                        "|[0.00146953202583...|\n",
                        "+--------------------+\n",
                        "only showing top 20 rows\n",
                        "\n"
                    ]
                }
            ],
            "source": [
                "from pyspark.ml.feature import MinMaxScaler\n",
                "from pyspark.ml.linalg import Vectors\n",
                "from pyspark.sql.functions import col\n",
                "\n",
                "# solución"
            ]
        },
        {
            "cell_type": "code",
            "execution_count": null,
            "id": "7893006c-8297-4db7-888c-2ab753b65e42",
            "metadata": {},
            "outputs": [],
            "source": []
        }
    ],
    "metadata": {
        "kernelspec": {
            "display_name": "tdm",
            "language": "python",
            "name": "python3"
        },
        "language_info": {
            "codemirror_mode": {
                "name": "ipython",
                "version": 3
            },
            "file_extension": ".py",
            "mimetype": "text/x-python",
            "name": "python",
            "nbconvert_exporter": "python",
            "pygments_lexer": "ipython3",
            "version": "3.12.4"
        }
    },
    "nbformat": 4,
    "nbformat_minor": 5
}
