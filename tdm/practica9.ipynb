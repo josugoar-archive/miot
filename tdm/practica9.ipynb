{
 "cells": [
  {
   "cell_type": "markdown",
   "metadata": {},
   "source": [
    "# Práctica 9 \n",
    "\n",
    "### TDM - Máster en IoT - Rafael Caballero\n",
    "\n",
    "El periódico [El País](https://elpais.com/espana/2022-01-10/consulte-todos-los-datos-internos-de-la-encuesta-de-el-pais-cuestionarios-cruces-y-respuestas-individuales.html) ha publicado estos días en abierto los datos de 2000 encuestas utilizados para estudiar la intención de voto. Además del partido al que cada persona indica que votaría se incluyen datos personales como edad, situación laboral, etc, y la respuesta a un cuestionario para entender mejor el perfil de voto a cada partido.\n",
    "\n",
    "Aquí vamos a fijarnos en los datos correspondientes a los que indican que en las pasadas elecciones votaron a los partidos \"CS\",\"PP\",\"PSOE\",\"UP\" y \"VOX\", dato que aparece en la columna label (\"CS\"-->0,....,\"VOX\"-->5)\n",
    "\n",
    "### Setup"
   ]
  },
  {
   "cell_type": "code",
   "execution_count": 1,
   "metadata": {},
   "outputs": [
    {
     "name": "stdout",
     "output_type": "stream",
     "text": [
      "Checking required modules\n",
      "findspark  found\n",
      "pyspark  found\n"
     ]
    },
    {
     "name": "stderr",
     "output_type": "stream",
     "text": [
      "24/11/26 19:04:02 WARN Utils: Your hostname, ubuntu resolves to a loopback address: 127.0.1.1; using 10.9.107.102 instead (on interface wlp0s20f3)\n",
      "24/11/26 19:04:02 WARN Utils: Set SPARK_LOCAL_IP if you need to bind to another address\n",
      "Setting default log level to \"WARN\".\n",
      "To adjust logging level use sc.setLogLevel(newLevel). For SparkR, use setLogLevel(newLevel).\n",
      "24/11/26 19:04:02 WARN NativeCodeLoader: Unable to load native-hadoop library for your platform... using builtin-java classes where applicable\n"
     ]
    },
    {
     "name": "stdout",
     "output_type": "stream",
     "text": [
      "+-----+\n",
      "|   hi|\n",
      "+-----+\n",
      "|spark|\n",
      "+-----+\n",
      "\n"
     ]
    }
   ],
   "source": [
    "import os.path\n",
    "from subprocess import check_call\n",
    "import importlib\n",
    "import os\n",
    "import sys\n",
    "import findspark\n",
    "import pyspark  # only run after findspark.init()\n",
    "from pyspark.sql import SparkSession\n",
    "\n",
    "modules = [\"findspark\", \"pyspark\"]\n",
    "\n",
    "\n",
    "def check_modules(modules, upgrade=False):\n",
    "    print(\"Checking required modules\")\n",
    "    for m in modules:\n",
    "        torch_loader = importlib.util.find_spec(m)\n",
    "        if torch_loader is not None and not upgrade:\n",
    "            print(m, \" found\")\n",
    "        else:\n",
    "            if upgrade:\n",
    "                print(\"upgrading \", m)\n",
    "            else:\n",
    "                print(m, \" not found, installing\")\n",
    "            if \"google.colab\" in sys.modules:\n",
    "                if upgrade:\n",
    "                    check_call([\"pip\", \"install\", \"--upgrade\", m])\n",
    "                else:\n",
    "                    check_call([\"pip\", \"install\", \"-q\", m])\n",
    "            else:\n",
    "                if upgrade:\n",
    "                    check_call(\n",
    "                        [\n",
    "                            sys.executable,\n",
    "                            \"-m\",\n",
    "                            \"pip\",\n",
    "                            \"install\",\n",
    "                            \"--user\",\n",
    "                            \"--upgrade\",\n",
    "                            m,\n",
    "                        ]\n",
    "                    )\n",
    "                else:\n",
    "                    check_call([sys.executable, \"-m\", \"pip\", \"install\", \"--user\", m])\n",
    "\n",
    "\n",
    "if \"google.colab\" in sys.modules:\n",
    "    !apt-get install openjdk-8-jdk-headless -qq > /dev/null\n",
    "    spark = \"spark-3.2.0-bin-hadoop3.2.tgz\"\n",
    "    if not os.path.isfile(spark):\n",
    "        !wget -q https://downloads.apache.org/spark/spark-3.2.0/{spark}\n",
    "        !tar xf {spark}\n",
    "        os.environ[\"JAVA_HOME\"] = \"/usr/lib/jvm/java-8-openjdk-amd64\"\n",
    "        os.environ[\"SPARK_HOME\"] = \"/content/spark-3.2.0-bin-hadoop3.2\"\n",
    "\n",
    "check_modules(modules, upgrade=False)\n",
    "\n",
    "findspark.init()\n",
    "spark = SparkSession.builder.getOrCreate()  # SparkSession.builder.getOrCreate()\n",
    "sc = spark.sparkContext\n",
    "df = spark.sql(\"\"\"select 'spark' as hi \"\"\")\n",
    "df.show()"
   ]
  },
  {
   "cell_type": "markdown",
   "metadata": {},
   "source": [
    "Solo por si alguien necesita poner las variables manualmente desde Python"
   ]
  },
  {
   "cell_type": "code",
   "execution_count": 2,
   "metadata": {},
   "outputs": [
    {
     "name": "stderr",
     "output_type": "stream",
     "text": [
      "<>:1: SyntaxWarning: invalid escape sequence '\\h'\n",
      "<>:1: SyntaxWarning: invalid escape sequence '\\h'\n",
      "/tmp/ipykernel_3659134/3755441975.py:1: SyntaxWarning: invalid escape sequence '\\h'\n",
      "  \"\"\"\n"
     ]
    },
    {
     "data": {
      "text/plain": [
       "'\\n%matplotlib inline\\nimport os\\n# descargar la carpeta copiar la carpeta spark en c:\\\\hlocal\\tdm\\nimport os\\n# cambiamos las variables del sistema\\nspark = \\'C:/hlocal/tdm/spark/spark-3.0.1-bin-hadoop3.2\\'\\n\\nif not(os.path.isdir(spark+\"/bin\")) or not(os.path.isdir(spark+\"/jars\")) :\\n    print(\"Error, la carpeta en \\'spark\\' debe contener los directorios bin y jars \")\\nelse:\\n    # en el path se añade\\n    #path = os.environ.get(\\'PATH\\')\\n    #path = path+ \\';\\'+spark+\\'\\\\bin;\\'\\n    #os.environ[\\'PATH\\'] = path\\n    os.environ[\\'SPARK_HOME\\']= spark\\n    os.environ[\\'HADOOP_HOME\\']= spark\\n    os.environ[\\'PYSPARK_DRIVER_PYTHON\\']= \\'jupyter\\'\\n    os.environ[\\'PYSPARK_DRIVER_PYTHON_OPTS\\']=\\'notebook\\'\\n\\n    # si da problema quizás haya que poner java_home a la localización de java 8\\n    #os.environ[\\'JAVA_HOME\\']= \\'C:\\\\Program Files\\\\Java\\\\jdk1.8.0_151\\'\\n    #os.environ[\\'PATH\\'] = os.environ.get(\\'JAVA_HOME\\')+\\'\\\\bin;\\'+spark\\n    print(\"Hecho\")\\n'"
      ]
     },
     "execution_count": 2,
     "metadata": {},
     "output_type": "execute_result"
    }
   ],
   "source": [
    "\"\"\"\n",
    "%matplotlib inline\n",
    "import os\n",
    "# descargar la carpeta copiar la carpeta spark en c:\\hlocal\\tdm\n",
    "import os\n",
    "# cambiamos las variables del sistema\n",
    "spark = 'C:/hlocal/tdm/spark/spark-3.0.1-bin-hadoop3.2'\n",
    "\n",
    "if not(os.path.isdir(spark+\"/bin\")) or not(os.path.isdir(spark+\"/jars\")) :\n",
    "    print(\"Error, la carpeta en 'spark' debe contener los directorios bin y jars \")\n",
    "else:\n",
    "    # en el path se añade\n",
    "    #path = os.environ.get('PATH')\n",
    "    #path = path+ ';'+spark+'\\\\bin;'\n",
    "    #os.environ['PATH'] = path\n",
    "    os.environ['SPARK_HOME']= spark\n",
    "    os.environ['HADOOP_HOME']= spark\n",
    "    os.environ['PYSPARK_DRIVER_PYTHON']= 'jupyter'\n",
    "    os.environ['PYSPARK_DRIVER_PYTHON_OPTS']='notebook'\n",
    "\n",
    "    # si da problema quizás haya que poner java_home a la localización de java 8\n",
    "    #os.environ['JAVA_HOME']= 'C:\\\\Program Files\\\\Java\\\\jdk1.8.0_151'\n",
    "    #os.environ['PATH'] = os.environ.get('JAVA_HOME')+'\\\\bin;'+spark\n",
    "    print(\"Hecho\")\n",
    "\"\"\""
   ]
  },
  {
   "cell_type": "markdown",
   "metadata": {},
   "source": [
    "Algunas funciones auxiliares"
   ]
  },
  {
   "cell_type": "code",
   "execution_count": 3,
   "metadata": {},
   "outputs": [
    {
     "name": "stderr",
     "output_type": "stream",
     "text": [
      "24/11/26 19:04:18 WARN GarbageCollectionMetrics: To enable non-built-in garbage collector(s) List(G1 Concurrent GC), users should configure it(them) to spark.eventLog.gcMetrics.youngGenerationGarbageCollectors or spark.eventLog.gcMetrics.oldGenerationGarbageCollectors\n"
     ]
    }
   ],
   "source": [
    "from pyspark.ml.evaluation import MulticlassClassificationEvaluator\n",
    "from pyspark.mllib.evaluation import MulticlassMetrics\n",
    "import numpy as np\n",
    "\n",
    "\n",
    "import matplotlib.pyplot as plt\n",
    "\n",
    "%matplotlib inline\n",
    "from pyspark_dist_explore import hist\n",
    "import pyspark.sql.functions as func\n",
    "\n",
    "\n",
    "def load_file(file):\n",
    "    df = (\n",
    "        spark.read.format(\"com.databricks.spark.csv\")\n",
    "        .options(header=\"true\", inferschema=\"true\")\n",
    "        .load(file)\n",
    "    )\n",
    "    return df\n",
    "\n",
    "\n",
    "def evaluate_predictions(predictions, verb=True):\n",
    "    preds_and_labels = predictions.select([\"prediction\", \"label\"])\n",
    "    pl = preds_and_labels.rdd.map(tuple)\n",
    "    metrics = MulticlassMetrics(pl)\n",
    "    cm = metrics.confusionMatrix()\n",
    "\n",
    "    #\n",
    "    class_temp = (\n",
    "        predictions.select(\"label\")\n",
    "        .groupBy(\"label\")\n",
    "        .count()\n",
    "        .sort(\"count\", ascending=False)\n",
    "        .toPandas()\n",
    "    )\n",
    "    class_names = class_temp[\"label\"].values.tolist()\n",
    "\n",
    "    # print(class_names)\n",
    "    cm = cm.toArray()\n",
    "    if verb:\n",
    "        print(cm)\n",
    "    # add by rows to compute the recall\n",
    "    sumaf = []\n",
    "    if verb:\n",
    "        print(\"Recall \")\n",
    "    for i in range(len(class_names)):\n",
    "        suma = sum(cm[i])\n",
    "        if verb:\n",
    "            print(i, \":\", round(cm[i][i] / suma, 2))\n",
    "        sumaf.append(suma)\n",
    "\n",
    "    # add by columns to compute the precision\n",
    "    sumac = []\n",
    "    sumad = []\n",
    "    if verb:\n",
    "        print(\"Precision \")\n",
    "    for i in range(len(class_names)):\n",
    "        suma = 0\n",
    "        for j in range(len(class_names)):\n",
    "            suma += cm[j][i]\n",
    "        sumac.append(suma)\n",
    "        if verb:\n",
    "            print(i, \":\", round(cm[i][i] / suma, 2))\n",
    "        sumad.append(cm[i][i])\n",
    "    oa = np.sum(sumad) / sum(sumac)\n",
    "    ac = 0\n",
    "    for i in range(len(sumac)):\n",
    "        ac += sumac[i] * sumaf[i]\n",
    "    ac /= sum(sumac) * sum(sumac)\n",
    "    # print(oa,ac)\n",
    "    kappa = (oa - ac) / (1 - ac)\n",
    "    if verb:\n",
    "        print(\"***Global Statistics***\")\n",
    "        print(\"kappa \", round(kappa, 3))\n",
    "        acc = pl.filter(lambda x: x[0] == x[1]).count() / float(pl.count())\n",
    "        print(\"Model accuracy: %.3f%%\" % (acc * 100))\n",
    "    return cm, kappa\n"
   ]
  },
  {
   "cell_type": "markdown",
   "metadata": {},
   "source": [
    "Cargamos el fichero"
   ]
  },
  {
   "cell_type": "code",
   "execution_count": 4,
   "metadata": {},
   "outputs": [
    {
     "name": "stdout",
     "output_type": "stream",
     "text": [
      "730 rows\n",
      "root\n",
      " |-- sex: integer (nullable = true)\n",
      " |-- age: integer (nullable = true)\n",
      " |-- hab: integer (nullable = true)\n",
      " |-- prov: integer (nullable = true)\n",
      " |-- ccaa: integer (nullable = true)\n",
      " |-- edu: integer (nullable = true)\n",
      " |-- cs: integer (nullable = true)\n",
      " |-- p1_1: integer (nullable = true)\n",
      " |-- p1_2: integer (nullable = true)\n",
      " |-- p1_3: integer (nullable = true)\n",
      " |-- p1_4: integer (nullable = true)\n",
      " |-- p1_5: integer (nullable = true)\n",
      " |-- p1_6: integer (nullable = true)\n",
      " |-- p1_7: integer (nullable = true)\n",
      " |-- p1_8: integer (nullable = true)\n",
      " |-- p1_9: integer (nullable = true)\n",
      " |-- p1_10: integer (nullable = true)\n",
      " |-- p2_1: integer (nullable = true)\n",
      " |-- p2_2: integer (nullable = true)\n",
      " |-- p2_3: integer (nullable = true)\n",
      " |-- p3_1: integer (nullable = true)\n",
      " |-- p3_2: integer (nullable = true)\n",
      " |-- p3_3: integer (nullable = true)\n",
      " |-- p3_4: integer (nullable = true)\n",
      " |-- p3_5: integer (nullable = true)\n",
      " |-- p3_6: integer (nullable = true)\n",
      " |-- p4_1: integer (nullable = true)\n",
      " |-- p4_2: integer (nullable = true)\n",
      " |-- p4_3: integer (nullable = true)\n",
      " |-- p4_4: integer (nullable = true)\n",
      " |-- p4_5: integer (nullable = true)\n",
      " |-- p4_6: integer (nullable = true)\n",
      " |-- p4_7: integer (nullable = true)\n",
      " |-- p4_8: integer (nullable = true)\n",
      " |-- p4_9: integer (nullable = true)\n",
      " |-- p5_1: integer (nullable = true)\n",
      " |-- p5_2: integer (nullable = true)\n",
      " |-- p5_3: integer (nullable = true)\n",
      " |-- p5_4: integer (nullable = true)\n",
      " |-- p5_5: integer (nullable = true)\n",
      " |-- p5_6: integer (nullable = true)\n",
      " |-- p5_7: integer (nullable = true)\n",
      " |-- p5_8: integer (nullable = true)\n",
      " |-- p5_9: integer (nullable = true)\n",
      " |-- p5_10: integer (nullable = true)\n",
      " |-- p5_11: integer (nullable = true)\n",
      " |-- p5_12: integer (nullable = true)\n",
      " |-- p6: integer (nullable = true)\n",
      " |-- label: integer (nullable = true)\n",
      "\n"
     ]
    }
   ],
   "source": [
    "url = \"https://raw.githubusercontent.com/RafaelCaballero/tdm/master/datos/datav.csv\"\n",
    "file = \"./datav.csv\"\n",
    "\n",
    "import urllib.request\n",
    "\n",
    "f = urllib.request.urlretrieve(\n",
    "    url, file\n",
    ")  # in case of error download manually and comment this line\n",
    "# lo cargamos como un dataframe\n",
    "df = load_file(file)\n",
    "print(f\"{df.count()} rows\")\n",
    "df.printSchema()"
   ]
  },
  {
   "cell_type": "markdown",
   "metadata": {},
   "source": [
    "#### Ejercicio 1 (2 puntos). \n",
    "\n",
    "Lo primero que vamos a ver es si los datos de los participantes se pueden agrupar en 5 agregados de forma que cada uno represente (más o menos) a un partido político, es decir, si las preguntas y respuestas sirven para representar de forma natural las distintas opciones.\n",
    "\n",
    "Para ellos vamos a utilizar k-means con k=5:"
   ]
  },
  {
   "cell_type": "code",
   "execution_count": 5,
   "metadata": {},
   "outputs": [],
   "source": [
    "from pyspark.ml.clustering import KMeans\n",
    "\n",
    "k = 5  # number of clusters (groups)\n",
    "method = KMeans().setK(k).setSeed(1)  # don't change this!!"
   ]
  },
  {
   "cell_type": "markdown",
   "metadata": {},
   "source": [
    "Este `method` será el segundo paso de un pipeline. El primer paso será el habitual VectorAssembler que agrupa en una columna `features` todas las columnas salvo `label` (que, al estar en aprendizaje no supervisado, no vamos a utilizar de momento).\n",
    "\n",
    "Escribir el pipeline y aplicarlo al conjunto df, dejando el resultado en una variable `predictions`\n",
    "\n",
    "*Importante*: aquí no hace falta dividir en train y test: tanto el *fit* como el *transform* se aplican a todo el dataframe"
   ]
  },
  {
   "cell_type": "code",
   "execution_count": null,
   "metadata": {},
   "outputs": [],
   "source": [
    "\n",
    "from pyspark.ml.feature import VectorAssembler\n",
    "from pyspark.ml import Pipeline\n",
    "\n",
    "### solution\n"
   ]
  },
  {
   "cell_type": "markdown",
   "metadata": {},
   "source": [
    "La columna `prediction` es un número de 0 a 4; las filas que tengan el mismo número se entiende que están en el mismo cluster. Estos valores no tienen por qué coinciden con la etiqueta `label`, que no se ha utilizado aun, como podemos ver:"
   ]
  },
  {
   "cell_type": "code",
   "execution_count": 36,
   "metadata": {},
   "outputs": [
    {
     "name": "stdout",
     "output_type": "stream",
     "text": [
      "+-----+----------+\n",
      "|label|prediction|\n",
      "+-----+----------+\n",
      "|  0.0|       0.0|\n",
      "|  2.0|       2.0|\n",
      "|  1.0|       0.0|\n",
      "|  3.0|       3.0|\n",
      "|  3.0|       0.0|\n",
      "|  2.0|       2.0|\n",
      "|  0.0|       1.0|\n",
      "|  0.0|       0.0|\n",
      "|  3.0|       2.0|\n",
      "|  1.0|       4.0|\n",
      "|  2.0|       2.0|\n",
      "|  1.0|       3.0|\n",
      "|  0.0|       1.0|\n",
      "|  4.0|       0.0|\n",
      "|  3.0|       0.0|\n",
      "|  4.0|       4.0|\n",
      "|  0.0|       0.0|\n",
      "|  0.0|       0.0|\n",
      "|  3.0|       3.0|\n",
      "|  2.0|       2.0|\n",
      "+-----+----------+\n",
      "only showing top 20 rows\n",
      "\n"
     ]
    }
   ],
   "source": [
    "predictions.select(\"label\",\"prediction\").show()"
   ]
  },
  {
   "cell_type": "markdown",
   "metadata": {},
   "source": [
    "#### Ejercicio 2  (2 puntos)\n",
    "\n",
    "Ahora nos gustaría saber, para cada valor del cluster (`prediction`) cómo se distribuyen los distintos valores de label. \n",
    "\n",
    "Completar la función `show_clusters` de forma que para todo valor c entre 0 y k (no incluído) de `prediction`:\n",
    "\n",
    "a) Obtenga un dataframe df_c que solo contenga las filas de df que tengan `prediction` a `c` (utilizar para ello [filter](https://sparkbyexamples.com/pyspark/pyspark-where-filter/))\n",
    "\n",
    "b) Llame a la función histogram para mostrar el histograma de la columna `label` en `df_c`."
   ]
  },
  {
   "cell_type": "code",
   "execution_count": null,
   "metadata": {},
   "outputs": [
    {
     "name": "stdout",
     "output_type": "stream",
     "text": [
      "Cluster 0\n"
     ]
    },
    {
     "data": {
      "image/png": "[encoded data removed]",
      "text/plain": [
       "<Figure size 432x288 with 1 Axes>"
      ]
     },
     "metadata": {
      "needs_background": "light"
     },
     "output_type": "display_data"
    },
    {
     "name": "stdout",
     "output_type": "stream",
     "text": [
      "Cluster 1\n"
     ]
    },
    {
     "data": {
      "image/png": "[encoded data removed]",
      "text/plain": [
       "<Figure size 432x288 with 1 Axes>"
      ]
     },
     "metadata": {
      "needs_background": "light"
     },
     "output_type": "display_data"
    },
    {
     "name": "stdout",
     "output_type": "stream",
     "text": [
      "Cluster 2\n"
     ]
    },
    {
     "data": {
      "image/png": "[encoded data removed]",
      "text/plain": [
       "<Figure size 432x288 with 1 Axes>"
      ]
     },
     "metadata": {
      "needs_background": "light"
     },
     "output_type": "display_data"
    },
    {
     "name": "stdout",
     "output_type": "stream",
     "text": [
      "Cluster 3\n"
     ]
    },
    {
     "data": {
      "image/png": "[encoded data removed]",
      "text/plain": [
       "<Figure size 432x288 with 1 Axes>"
      ]
     },
     "metadata": {
      "needs_background": "light"
     },
     "output_type": "display_data"
    },
    {
     "name": "stdout",
     "output_type": "stream",
     "text": [
      "Cluster 4\n"
     ]
    },
    {
     "data": {
      "image/png": "[encoded data removed]",
      "text/plain": [
       "<Figure size 432x288 with 1 Axes>"
      ]
     },
     "metadata": {
      "needs_background": "light"
     },
     "output_type": "display_data"
    }
   ],
   "source": [
    "def histogram(df,col,bins=20,color=\"blue\"):\n",
    "    #labels = [\"PSOE\",\"PP\",\"CS\",\"UP\",\"VOX\"]\n",
    "    labels = [\"CS\",\"PP\",\"PSOE\",\"UP\",\"VOX\"]\n",
    "    fig,ax = plt.subplots()\n",
    "    hist(ax, df.select([col]), bins = bins, color=[color])\n",
    "    plt.xticks(range(5), labels, rotation='vertical')\n",
    "    plt.show()\n",
    "\n",
    "def show_clusters(predictions,k):\n",
    "    # solution\n",
    "\n",
    "\n",
    "\n",
    "# test\n",
    "show_clusters(predictions,k)"
   ]
  },
  {
   "cell_type": "markdown",
   "metadata": {},
   "source": [
    "#### Ejercicio 3 [2 puntos]     \n",
    "\n",
    "Los resultados son desalentadores:  las respuestas no permiten distinguir partidos ¿estamos haciendo algo mal?\n",
    "\n",
    "Se nos ocurre que quizás el problema sea que hay que escalar los datos. Para ello usaremos el escalador MinMaxScaler, como paso adicional del pipeline, aplicándoselo a todos los campos excepto a `label`. De nuevo el resultado se llamará `predictions`."
   ]
  },
  {
   "cell_type": "code",
   "execution_count": 40,
   "metadata": {},
   "outputs": [
    {
     "name": "stdout",
     "output_type": "stream",
     "text": [
      "Cluster 0\n"
     ]
    },
    {
     "data": {
      "image/png": "[encoded data removed]",
      "text/plain": [
       "<Figure size 432x288 with 1 Axes>"
      ]
     },
     "metadata": {
      "needs_background": "light"
     },
     "output_type": "display_data"
    },
    {
     "name": "stdout",
     "output_type": "stream",
     "text": [
      "Cluster 1\n"
     ]
    },
    {
     "data": {
      "image/png": "[encoded data removed]",
      "text/plain": [
       "<Figure size 432x288 with 1 Axes>"
      ]
     },
     "metadata": {
      "needs_background": "light"
     },
     "output_type": "display_data"
    },
    {
     "name": "stdout",
     "output_type": "stream",
     "text": [
      "Cluster 2\n"
     ]
    },
    {
     "data": {
      "image/png": "[encoded data removed]",
      "text/plain": [
       "<Figure size 432x288 with 1 Axes>"
      ]
     },
     "metadata": {
      "needs_background": "light"
     },
     "output_type": "display_data"
    },
    {
     "name": "stdout",
     "output_type": "stream",
     "text": [
      "Cluster 3\n"
     ]
    },
    {
     "data": {
      "image/png": "[encoded data removed]",
      "text/plain": [
       "<Figure size 432x288 with 1 Axes>"
      ]
     },
     "metadata": {
      "needs_background": "light"
     },
     "output_type": "display_data"
    },
    {
     "name": "stdout",
     "output_type": "stream",
     "text": [
      "Cluster 4\n"
     ]
    },
    {
     "data": {
      "image/png": "[encoded data removed]",
      "text/plain": [
       "<Figure size 432x288 with 1 Axes>"
      ]
     },
     "metadata": {
      "needs_background": "light"
     },
     "output_type": "display_data"
    }
   ],
   "source": [
    "from pyspark.ml.feature import MinMaxScaler\n",
    "\n",
    "# solution\n",
    "\n",
    "\n",
    "### test\n",
    "show_clusters(predictions,k)"
   ]
  },
  {
   "cell_type": "markdown",
   "metadata": {},
   "source": [
    "#### Ejercicio 4 [2 puntos]     \n",
    "\n",
    "Esto está mejor, ahora parece que al menos algunos de los clúster corresponden claramente a algún partido o a dos partidos. \n",
    "\n",
    "Se nos ocurre una nueva idea: nos damos cuenta de que algunas preguntas no representan un valor ordinal (tipo \"nada\", \"algo\", \"mucho\") sino categórico, y por tanto no tiene sentido aplicarles el escalador. En su lugar le aplicaremos el transformador `OneHotEncoder`.\n",
    "\n",
    "En el siguiente código, la variable `cols_codify` tiene el nombre de estas columnas y `cols_codify_newnames` son los nuevos nombres que recibirán las variables transformadas (salida de `OneHotEncoder`). Además, `vectorcols` es la lista de nombres de columna que debe utilizar el VectorAssembler, que contiene las variables categóricas ya reemplazadas por sus nuevos nombres.\n",
    "\n",
    "Diseñar y aplicar el pipeline con todos los (4) elementos. El escalador se deja tal cual porque no afecta a las variables codificadas por OneHotEncoder y sí al resto."
   ]
  },
  {
   "cell_type": "code",
   "execution_count": 41,
   "metadata": {},
   "outputs": [
    {
     "name": "stdout",
     "output_type": "stream",
     "text": [
      "Cluster 0\n"
     ]
    },
    {
     "data": {
      "image/png": "[encoded data removed]",
      "text/plain": [
       "<Figure size 432x288 with 1 Axes>"
      ]
     },
     "metadata": {
      "needs_background": "light"
     },
     "output_type": "display_data"
    },
    {
     "name": "stdout",
     "output_type": "stream",
     "text": [
      "Cluster 1\n"
     ]
    },
    {
     "data": {
      "image/png": "[encoded data removed]",
      "text/plain": [
       "<Figure size 432x288 with 1 Axes>"
      ]
     },
     "metadata": {
      "needs_background": "light"
     },
     "output_type": "display_data"
    },
    {
     "name": "stdout",
     "output_type": "stream",
     "text": [
      "Cluster 2\n"
     ]
    },
    {
     "data": {
      "image/png": "[encoded data removed]",
      "text/plain": [
       "<Figure size 432x288 with 1 Axes>"
      ]
     },
     "metadata": {
      "needs_background": "light"
     },
     "output_type": "display_data"
    },
    {
     "name": "stdout",
     "output_type": "stream",
     "text": [
      "Cluster 3\n"
     ]
    },
    {
     "data": {
      "image/png": "[encoded data removed]",
      "text/plain": [
       "<Figure size 432x288 with 1 Axes>"
      ]
     },
     "metadata": {
      "needs_background": "light"
     },
     "output_type": "display_data"
    },
    {
     "name": "stdout",
     "output_type": "stream",
     "text": [
      "Cluster 4\n"
     ]
    },
    {
     "data": {
      "image/png": "[encoded data removed]",
      "text/plain": [
       "<Figure size 432x288 with 1 Axes>"
      ]
     },
     "metadata": {
      "needs_background": "light"
     },
     "output_type": "display_data"
    }
   ],
   "source": [
    "from pyspark.ml.feature import OneHotEncoder\n",
    "\n",
    "cols_codify = [\"p5_1\",\"p5_2\",\"p5_3\",\"p5_4\",\"p5_5\",\"p5_6\",\"p5_7\",\"p5_8\",\"p5_9\",\"p5_10\",\"p5_11\",\"p5_12\",\"prov\",\"ccaa\"]\n",
    "cols_codify_newnames = [x+\"_t\" for x in cols_codify]\n",
    "\n",
    "vectorcols = [x if x not in cols_codify else x+\"_t\" for x in df.columns if x not in ['label']]\n",
    "\n",
    "#### Solution\n",
    "\n",
    "\n",
    "### test\n",
    "show_clusters(predictions,k)"
   ]
  },
  {
   "cell_type": "markdown",
   "metadata": {},
   "source": [
    "### Ejercicio 5 (2 puntos)\n",
    "\n",
    "Visto que las preguntas sí parecen reflejar (más o menos) las posiciones de los partidos nos planteamos la pregunta ¿Podríamos predecir el voto en las últimas elecciones a partir del cuestionario?. Utilizar un clasificador NaiveBayes con hiperparámetro `modelType=\"bernoulli\"` para deducir label a partir del resto de columnas. El dataframe con las predicciones del test se llamará `predictions`. \n",
    "\n",
    "Nota1: Hacerlo con un pipeline, se pueden reutilizar los pasos que se consideren\n",
    "\n",
    "Nota2: Al utilizar la familia bernoulli solo se podrán utilizar las variables que han sido transformadas con OneHotEncoding, ya que este método requiere valores que solo pueden ser 0 o 1\n",
    "\n",
    "Importante: Ahora sí que hay que utilizar train y test, estamos en aprendizaje supervisado"
   ]
  },
  {
   "cell_type": "code",
   "execution_count": 43,
   "metadata": {},
   "outputs": [
    {
     "name": "stdout",
     "output_type": "stream",
     "text": [
      "['CS', 'PP', 'PSOE', 'UP', 'VOX']\n",
      "[[30. 12.  3.  1.  3.]\n",
      " [14. 34.  1.  1.  4.]\n",
      " [15.  2. 29.  4.  0.]\n",
      " [11.  0.  5. 33.  0.]\n",
      " [12.  3.  2.  0. 38.]]\n",
      "Kappa 0.5481083738254144\n"
     ]
    }
   ],
   "source": [
    "from pyspark.ml.classification import NaiveBayes\n",
    "\n",
    "# this is needed because raendomforest assumes that label is a double\n",
    "from pyspark.sql.functions import col\n",
    "df = df.withColumn(\"label\",df.label.cast('double'))\n",
    "\n",
    "# train  & test proportion\n",
    "ratio_train=0.65\n",
    "\n",
    "\n",
    "#####solution\n"
   ]
  },
  {
   "cell_type": "code",
   "execution_count": null,
   "metadata": {},
   "outputs": [],
   "source": []
  }
 ],
 "metadata": {
  "kernelspec": {
   "display_name": "tdm",
   "language": "python",
   "name": "python3"
  },
  "language_info": {
   "codemirror_mode": {
    "name": "ipython",
    "version": 3
   },
   "file_extension": ".py",
   "mimetype": "text/x-python",
   "name": "python",
   "nbconvert_exporter": "python",
   "pygments_lexer": "ipython3",
   "version": "3.12.4"
  }
 },
 "nbformat": 4,
 "nbformat_minor": 4
}
