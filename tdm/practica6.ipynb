{
 "cells": [
  {
   "cell_type": "markdown",
   "metadata": {},
   "source": [
    "Nombre:"
   ]
  },
  {
   "cell_type": "markdown",
   "metadata": {},
   "source": [
    "# Práctica 6\n",
    "### TDM - Máster en IoT - Rafael Caballero adaptada por Pablo C. Cañizares\n",
    "\n",
    "Un clásico en los cursos de Machine learning es utilizar los datos del Titanic para realizar un modelo que prediga (a posteriori, claro) las posibilidades de sobrevivir al naufragio a partir de datos como la edad, el sexo, lo que se ha pagado por el pasaje, etc. \n",
    "\n",
    "Aquí no vamos a ser menos y utilizaremos regresión logística para intentar predecir este valor\n",
    "\n",
    "### 1.- setup y carga de datos\n",
    "\n",
    "Empezamos asegurándonos de que Spark está disponible y funciona y cargando funciones auxiliares"
   ]
  },
  {
   "cell_type": "code",
   "execution_count": 2,
   "metadata": {},
   "outputs": [
    {
     "name": "stdout",
     "output_type": "stream",
     "text": [
      "Checking required modules\n",
      "findspark  found\n",
      "pyspark  found\n",
      "urllib  found\n",
      "pyspark_dist_explore  found\n",
      "scikit-learn  not found, installing\n",
      "Collecting scikit-learn\n",
      "  Downloading scikit_learn-1.5.2-cp312-cp312-manylinux_2_17_x86_64.manylinux2014_x86_64.whl.metadata (13 kB)\n",
      "Requirement already satisfied: numpy>=1.19.5 in /home/josugoar/miniconda3/envs/tdm/lib/python3.12/site-packages (from scikit-learn) (2.1.2)\n",
      "Requirement already satisfied: scipy>=1.6.0 in /home/josugoar/miniconda3/envs/tdm/lib/python3.12/site-packages (from scikit-learn) (1.14.1)\n",
      "Collecting joblib>=1.2.0 (from scikit-learn)\n",
      "  Downloading joblib-1.4.2-py3-none-any.whl.metadata (5.4 kB)\n",
      "Collecting threadpoolctl>=3.1.0 (from scikit-learn)\n",
      "  Downloading threadpoolctl-3.5.0-py3-none-any.whl.metadata (13 kB)\n",
      "Downloading scikit_learn-1.5.2-cp312-cp312-manylinux_2_17_x86_64.manylinux2014_x86_64.whl (12.9 MB)\n",
      "\u001b[2K   \u001b[90m━━━━━━━━━━━━━━━━━━━━━━━━━━━━━━━━━━━━━━━━\u001b[0m \u001b[32m12.9/12.9 MB\u001b[0m \u001b[31m2.2 MB/s\u001b[0m eta \u001b[36m0:00:00\u001b[0ma \u001b[36m0:00:01\u001b[0m\n",
      "\u001b[?25hDownloading joblib-1.4.2-py3-none-any.whl (301 kB)\n",
      "Downloading threadpoolctl-3.5.0-py3-none-any.whl (18 kB)\n",
      "Installing collected packages: threadpoolctl, joblib, scikit-learn\n",
      "Successfully installed joblib-1.4.2 scikit-learn-1.5.2 threadpoolctl-3.5.0\n",
      "Done!\n"
     ]
    }
   ],
   "source": [
    "import os.path\n",
    "from subprocess import check_call\n",
    "import importlib\n",
    "import os\n",
    "import sys\n",
    "\n",
    "modules = [\"findspark\", \"pyspark\", \"urllib\", \"pyspark_dist_explore\", \"scikit-learn\"]\n",
    "\n",
    "if \"google.colab\" in sys.modules:\n",
    "    !apt-get install openjdk-8-jdk-headless -qq > /dev/null\n",
    "    spark = \"spark-3.2.0-bin-hadoop3.2.tgz\"\n",
    "    if not os.path.isfile(spark):\n",
    "        !wget -q https://downloads.apache.org/spark/spark-3.2.0/{spark}\n",
    "        !tar xf {spark}\n",
    "        os.environ[\"JAVA_HOME\"] = \"/usr/lib/jvm/java-8-openjdk-amd64\"\n",
    "        os.environ[\"SPARK_HOME\"] = \"/content/spark-3.2.0-bin-hadoop3.2\"\n",
    "\n",
    "print(\"Checking required modules\")\n",
    "for m in modules:\n",
    "    torch_loader = importlib.util.find_spec(m)\n",
    "    if torch_loader is not None:\n",
    "        print(m, \" found\")\n",
    "    else:\n",
    "        print(m, \" not found, installing\")\n",
    "        if \"google.colab\" in sys.modules:\n",
    "            check_call([\"pip\", \"install\", \"-q\", m])\n",
    "        else:\n",
    "            check_call([sys.executable, \"-m\", \"pip\", \"install\", \"--user\", m])\n",
    "print(\"Done!\")"
   ]
  },
  {
   "cell_type": "markdown",
   "metadata": {},
   "source": [
    "**Nota** Ejecutar el siguiente código solo si es necesaripo poner variables de entorno (en el laboratorio NO)"
   ]
  },
  {
   "cell_type": "code",
   "execution_count": 3,
   "metadata": {},
   "outputs": [
    {
     "data": {
      "text/plain": [
       "'\\n%matplotlib inline\\nimport os\\n# cambiamos las variables del sistema\\nspark = \\'C:/hlocal/tdm/spark/spark-3.2.0-bin-hadoop3.2\\'\\nif not(os.path.isdir(spark+\"/bin\")) or not(os.path.isdir(spark+\"/jars\")) :\\n        print(\"Error, la carpeta en \\'spark\\' debe contener los directorios bin y jars \")\\nelse:\\n        # en el path se añade\\n        #path = os.environ.get(\\'PATH\\')\\n        #path = path+ \\';\\'+spark+\\'\\\\bin;\\'\\n        #os.environ[\\'PATH\\'] = path\\n        os.environ[\\'SPARK_HOME\\']= spark\\n        os.environ[\\'HADOOP_HOME\\']= spark\\n        os.environ[\\'PYSPARK_DRIVER_PYTHON\\']= \\'jupyter\\'\\n        os.environ[\\'PYSPARK_DRIVER_PYTHON_OPTS\\']=\\'notebook\\'\\n\\n        # si da problema con collect quizás haya que poner java_home a la localización de java 8\\n        #os.environ[\\'JAVA_HOME\\']= \\'C:\\\\Program Files\\\\Java\\\\jdk1.8.0_151\\'\\n        #os.environ[\\'PATH\\'] = os.environ.get(\\'JAVA_HOME\\')+\\'\\\\bin;\\'+spark\\n        print(\"Hecho\")\\nprint(\"Preparado!!\")\\n'"
      ]
     },
     "execution_count": 3,
     "metadata": {},
     "output_type": "execute_result"
    }
   ],
   "source": [
    "\"\"\"\n",
    "%matplotlib inline\n",
    "import os\n",
    "# cambiamos las variables del sistema\n",
    "spark = 'C:/hlocal/tdm/spark/spark-3.2.0-bin-hadoop3.2'\n",
    "if not(os.path.isdir(spark+\"/bin\")) or not(os.path.isdir(spark+\"/jars\")) :\n",
    "        print(\"Error, la carpeta en 'spark' debe contener los directorios bin y jars \")\n",
    "else:\n",
    "        # en el path se añade\n",
    "        #path = os.environ.get('PATH')\n",
    "        #path = path+ ';'+spark+'\\\\bin;'\n",
    "        #os.environ['PATH'] = path\n",
    "        os.environ['SPARK_HOME']= spark\n",
    "        os.environ['HADOOP_HOME']= spark\n",
    "        os.environ['PYSPARK_DRIVER_PYTHON']= 'jupyter'\n",
    "        os.environ['PYSPARK_DRIVER_PYTHON_OPTS']='notebook'\n",
    "\n",
    "        # si da problema con collect quizás haya que poner java_home a la localización de java 8\n",
    "        #os.environ['JAVA_HOME']= 'C:\\\\Program Files\\\\Java\\\\jdk1.8.0_151'\n",
    "        #os.environ['PATH'] = os.environ.get('JAVA_HOME')+'\\\\bin;'+spark\n",
    "        print(\"Hecho\")\n",
    "print(\"Preparado!!\")\n",
    "\"\"\""
   ]
  },
  {
   "cell_type": "markdown",
   "metadata": {},
   "source": [
    "Comprobamos si Spark está listo..."
   ]
  },
  {
   "cell_type": "code",
   "execution_count": 4,
   "metadata": {},
   "outputs": [
    {
     "name": "stderr",
     "output_type": "stream",
     "text": [
      "24/11/05 19:03:55 WARN Utils: Your hostname, ubuntu resolves to a loopback address: 127.0.1.1; using 10.9.100.134 instead (on interface wlp0s20f3)\n",
      "24/11/05 19:03:55 WARN Utils: Set SPARK_LOCAL_IP if you need to bind to another address\n",
      "Setting default log level to \"WARN\".\n",
      "To adjust logging level use sc.setLogLevel(newLevel). For SparkR, use setLogLevel(newLevel).\n",
      "24/11/05 19:03:55 WARN NativeCodeLoader: Unable to load native-hadoop library for your platform... using builtin-java classes where applicable\n"
     ]
    },
    {
     "name": "stdout",
     "output_type": "stream",
     "text": [
      "+-----+\n",
      "|   hi|\n",
      "+-----+\n",
      "|spark|\n",
      "+-----+\n",
      "\n"
     ]
    }
   ],
   "source": [
    "import findspark\n",
    "\n",
    "findspark.init()\n",
    "\n",
    "import pyspark  # only run after findspark.init()\n",
    "from pyspark.sql import SparkSession\n",
    "\n",
    "spark = SparkSession.builder.getOrCreate()\n",
    "sc = spark.sparkContext\n",
    "\n",
    "\n",
    "df = spark.sql(\"\"\"select 'spark' as hi \"\"\")\n",
    "df.show()"
   ]
  },
  {
   "cell_type": "markdown",
   "metadata": {},
   "source": [
    "Funciones útiles que ya conocemos, y nombre con el que el fichero se grabará en local"
   ]
  },
  {
   "cell_type": "code",
   "execution_count": 5,
   "metadata": {},
   "outputs": [
    {
     "name": "stderr",
     "output_type": "stream",
     "text": [
      "24/11/05 19:04:06 WARN GarbageCollectionMetrics: To enable non-built-in garbage collector(s) List(G1 Concurrent GC), users should configure it(them) to spark.eventLog.gcMetrics.youngGenerationGarbageCollectors or spark.eventLog.gcMetrics.oldGenerationGarbageCollectors\n"
     ]
    }
   ],
   "source": [
    "# file = \"./titanic.csv\"\n",
    "file = \"./titanic.csv\"\n",
    "\n",
    "from pyspark_dist_explore import hist\n",
    "import matplotlib.pyplot as plt\n",
    "\n",
    "%matplotlib inline\n",
    "import pyspark.sql.functions as func\n",
    "\n",
    "\n",
    "def histogram(df, col, bins=20, color=\"red\"):\n",
    "    fig, ax = plt.subplots()\n",
    "    hist(ax, df.select([col]), bins=bins, color=[color])\n",
    "    plt.xlabel(col)\n",
    "    vs = df.select(func.mean(col), func.stddev(col)).collect()\n",
    "    mean = vs[0][0]\n",
    "    sd = vs[0][1]\n",
    "    median = df.agg(func.percentile_approx(col, 0.5).alias(\"median\")).collect()[0][0]\n",
    "    # print(mean,sd,median,mode)\n",
    "    plt.plot([mean - 1.97 * sd, mean + 1.97 * sd], [10, 10], color=\"blue\")\n",
    "    plt.plot([mean, mean], [0, -20], color=\"blue\")\n",
    "    plt.plot([median, median], [25, -15], color=\"green\")\n",
    "    plt.title(\n",
    "        \"Histogram of \"\n",
    "        + str(col)\n",
    "        + \". Median: \"\n",
    "        + str(round(median, 2))\n",
    "        + \". Mean: \"\n",
    "        + str(round(mean, 2))\n",
    "        + \". SD: \"\n",
    "        + str(round(sd, 2))\n",
    "    )\n",
    "    plt.show()\n",
    "\n",
    "\n",
    "def prop_null_coll(df, c):\n",
    "    total = df.count()\n",
    "    nuls = df.filter(df[c].isNull()).count()\n",
    "    prop = nuls * 100 / total\n",
    "    return prop\n",
    "\n",
    "\n",
    "def printnulls(df):\n",
    "    for c in df.columns:\n",
    "        print(f\"Column {c} contains {round(prop_null_coll(df,c),2)}% nulls\")\n",
    "    return\n",
    "\n",
    "\n",
    "def load_file(file):\n",
    "    df = (\n",
    "        spark.read.format(\"com.databricks.spark.csv\")\n",
    "        .options(header=\"true\", inferschema=\"true\")\n",
    "        .load(file)\n",
    "    )\n",
    "    return df"
   ]
  },
  {
   "cell_type": "markdown",
   "metadata": {},
   "source": [
    "Descargamos el fichero en local"
   ]
  },
  {
   "cell_type": "code",
   "execution_count": 6,
   "metadata": {},
   "outputs": [
    {
     "name": "stdout",
     "output_type": "stream",
     "text": [
      "891 rows\n",
      "root\n",
      " |-- survived: string (nullable = true)\n",
      " |-- pclass: integer (nullable = true)\n",
      " |-- name: string (nullable = true)\n",
      " |-- sex: string (nullable = true)\n",
      " |-- age: double (nullable = true)\n",
      " |-- sibsp: integer (nullable = true)\n",
      " |-- parch: integer (nullable = true)\n",
      " |-- ticket: string (nullable = true)\n",
      " |-- fare: double (nullable = true)\n",
      " |-- embarked: string (nullable = true)\n",
      "\n"
     ]
    }
   ],
   "source": [
    "import urllib.request\n",
    "\n",
    "url = \"https://raw.githubusercontent.com/RafaelCaballero/tdm/master/datos/titanicyesno.csv\"\n",
    "\n",
    "f = urllib.request.urlretrieve(\n",
    "    url, file\n",
    ")  # in case of error download manually and comment this line\n",
    "# lo cargamos como un dataframe\n",
    "df = load_file(file)\n",
    "print(f\"{df.count()} rows\")\n",
    "df.printSchema()"
   ]
  },
  {
   "cell_type": "markdown",
   "metadata": {},
   "source": [
    "La descripción de las columnas:\n",
    "\n",
    "    survived - Survival ('yes' or 'no')\n",
    "    pclass - Passenger Class (1 = 1st; 2 = 2nd; 3 = 3rd)\n",
    "    name - Name\n",
    "    sex - Sex\n",
    "    age - Age\n",
    "    sibsp - Number of Siblings/Spouses Aboard\n",
    "    parch - Number of Parents/Children Aboard\n",
    "    ticket - Ticket Number\n",
    "    fare - Passenger Fare\n",
    "    embarked - Port of Embarkation (C = Cherbourg; Q = Queenstown; S = Southampton)\n",
    "\n",
    "\n",
    "Vamos a utilizar survived como label y pclass,name,sex,age,sibsp,parch,fare para predecirla\n",
    "\n",
    "### Pregunta 1 (1.5 puntos)\n",
    "\n",
    "El problema  es que tanto `survived` como `sex` son de tipo string. Para convertirlos a número utilizaremos dos \n",
    "[StringIndexer](https://spark.apache.org/docs/latest/ml-features#stringindexer). Un ejemplo que puede ayudar a entender cómo funciona:"
   ]
  },
  {
   "cell_type": "code",
   "execution_count": 7,
   "metadata": {},
   "outputs": [
    {
     "name": "stderr",
     "output_type": "stream",
     "text": [
      "                                                                                \r"
     ]
    },
    {
     "name": "stdout",
     "output_type": "stream",
     "text": [
      "+---+--------+\n",
      "| id|category|\n",
      "+---+--------+\n",
      "|  0|       a|\n",
      "|  1|       b|\n",
      "|  2|       c|\n",
      "|  3|       a|\n",
      "|  4|       a|\n",
      "|  5|       c|\n",
      "+---+--------+\n",
      "\n"
     ]
    }
   ],
   "source": [
    "from pyspark.ml.feature import StringIndexer\n",
    "\n",
    "dfPega = spark.createDataFrame(\n",
    "    [(0, \"a\"), (1, \"b\"), (2, \"c\"), (3, \"a\"), (4, \"a\"), (5, \"c\")], [\"id\", \"category\"]\n",
    ")\n",
    "dfPega.show()\n"
   ]
  },
  {
   "cell_type": "code",
   "execution_count": 8,
   "metadata": {},
   "outputs": [
    {
     "name": "stdout",
     "output_type": "stream",
     "text": [
      "+---+--------+-------------+\n",
      "| id|category|categoryIndex|\n",
      "+---+--------+-------------+\n",
      "|  0|       a|          0.0|\n",
      "|  1|       b|          2.0|\n",
      "|  2|       c|          1.0|\n",
      "|  3|       a|          0.0|\n",
      "|  4|       a|          0.0|\n",
      "|  5|       c|          1.0|\n",
      "+---+--------+-------------+\n",
      "\n"
     ]
    }
   ],
   "source": [
    "indexer = StringIndexer(inputCol=\"category\", outputCol=\"categoryIndex\")  # método\n",
    "indexed_model = indexer.fit(dfPega)  # metodo.fit --> modelo\n",
    "df_indexed = indexed_model.transform(dfPega)  # modelo.transform --> resultado\n",
    "df_indexed.show()"
   ]
  },
  {
   "cell_type": "markdown",
   "metadata": {},
   "source": [
    "En nuestro caso utilizaremos 2 StringIndexer.\n",
    "\n",
    "* El primero tendrá como columna de entrada `survived` y como columna de salida `label`\n",
    "* El segundo tendrá como columna de entrada `sex`  y como columna de salida `sex_i`\n",
    "\n",
    "Nota:\n",
    "\n",
    "* Ponerle un nombre diferente tanto a cada método indexer como al \"modelo\" que generan, no reutilizar variables. \n",
    "* En caso del indexer para `label` el modelo (obtenido tras hacer fit) se llamará `indexer_model`. \n",
    "* Recordar que al final habrá que aplicar los dos modelos, uno tras otro\n",
    "* El df que se obtiene tras aplicar los dos indexers se llamará `dfi`"
   ]
  },
  {
   "cell_type": "code",
   "execution_count": 10,
   "metadata": {},
   "outputs": [],
   "source": [
    "from pyspark.ml.feature import StringIndexer\n",
    "\n",
    "# solución\n",
    "dfi = df\n",
    "\n",
    "indexer_survived = StringIndexer(inputCol=\"survived\", outputCol=\"label\")  # método\n",
    "indexed_model_survived = indexer_survived.fit(dfi)  # metodo.fit --> modelo\n",
    "dfi = indexed_model_survived.transform(dfi)  # modelo.transform --> resultado\n",
    "\n",
    "indexer_sex = StringIndexer(inputCol=\"sex\", outputCol=\"sex_i\")  # método\n",
    "indexed_model_sex = indexer_sex.fit(dfi)  # metodo.fit --> modelo\n",
    "dfi = indexed_model_sex.transform(dfi)  # modelo.transform --> resultado"
   ]
  },
  {
   "cell_type": "markdown",
   "metadata": {},
   "source": [
    "Este código muestra la identificación entre etiquetas y valores en el caso de la columna `label`, y el dataframe resultante (nota: los valores asignados a las etiquetas pueden cambiar de los míos, apuntarlos para más adelante)"
   ]
  },
  {
   "cell_type": "code",
   "execution_count": 12,
   "metadata": {},
   "outputs": [
    {
     "name": "stdout",
     "output_type": "stream",
     "text": [
      "[('no', 0), ('yes', 1)]\n",
      "+--------------------+------+-----+--------+-----+\n",
      "|                name|   sex|sex_i|survived|label|\n",
      "+--------------------+------+-----+--------+-----+\n",
      "|Braund, Mr. Owen ...|  male|  0.0|      no|  0.0|\n",
      "|Cumings, Mrs. Joh...|female|  1.0|     yes|  1.0|\n",
      "|Heikkinen, Miss. ...|female|  1.0|     yes|  1.0|\n",
      "|Futrelle, Mrs. Ja...|female|  1.0|     yes|  1.0|\n",
      "|Allen, Mr. Willia...|  male|  0.0|      no|  0.0|\n",
      "|    Moran, Mr. James|  male|  0.0|      no|  0.0|\n",
      "|McCarthy, Mr. Tim...|  male|  0.0|      no|  0.0|\n",
      "|Palsson, Master. ...|  male|  0.0|      no|  0.0|\n",
      "|Johnson, Mrs. Osc...|female|  1.0|     yes|  1.0|\n",
      "|Nasser, Mrs. Nich...|female|  1.0|     yes|  1.0|\n",
      "|Sandstrom, Miss. ...|female|  1.0|     yes|  1.0|\n",
      "|Bonnell, Miss. El...|female|  1.0|     yes|  1.0|\n",
      "|Saundercock, Mr. ...|  male|  0.0|      no|  0.0|\n",
      "|Andersson, Mr. An...|  male|  0.0|      no|  0.0|\n",
      "|Vestrom, Miss. Hu...|female|  1.0|      no|  0.0|\n",
      "|Hewlett, Mrs. (Ma...|female|  1.0|     yes|  1.0|\n",
      "|Rice, Master. Eugene|  male|  0.0|      no|  0.0|\n",
      "|Williams, Mr. Cha...|  male|  0.0|     yes|  1.0|\n",
      "|Vander Planke, Mr...|female|  1.0|      no|  0.0|\n",
      "|Masselmani, Mrs. ...|female|  1.0|     yes|  1.0|\n",
      "+--------------------+------+-----+--------+-----+\n",
      "only showing top 20 rows\n",
      "\n"
     ]
    }
   ],
   "source": [
    "print(list(zip(indexed_model_survived.labels, [0, 1])))\n",
    "dfi.select([\"name\", \"sex\", \"sex_i\", \"survived\", \"label\"]).show()"
   ]
  },
  {
   "cell_type": "markdown",
   "metadata": {},
   "source": [
    "### Problema 2 (1.5 puntos)\n",
    "\n",
    "Parece que la columna `age` tiene valores nulos. Vamos a comprobar si es la única en `dfi`:"
   ]
  },
  {
   "cell_type": "code",
   "execution_count": 16,
   "metadata": {},
   "outputs": [
    {
     "name": "stdout",
     "output_type": "stream",
     "text": [
      "Column survived contains 0.0% nulls\n",
      "Column pclass contains 0.0% nulls\n",
      "Column name contains 0.0% nulls\n",
      "Column sex contains 0.0% nulls\n",
      "Column age contains 19.87% nulls\n",
      "Column sibsp contains 0.0% nulls\n",
      "Column parch contains 0.0% nulls\n",
      "Column ticket contains 0.0% nulls\n",
      "Column fare contains 0.0% nulls\n",
      "Column embarked contains 0.22% nulls\n",
      "Column label contains 0.0% nulls\n",
      "Column sex_i contains 0.0% nulls\n"
     ]
    }
   ],
   "source": [
    "printnulls(dfi)"
   ]
  },
  {
   "cell_type": "markdown",
   "metadata": {},
   "source": [
    "\n",
    "La columna `embarked` no la vamos a usar, pero `age` sí, y son muchos nulos. Decidimos rellenar estos valores con la media. Afortunadamente disponemos ya de un transformador que hace eso, llamado `Imputer` (ver [aquí](https://spark.apache.org/docs/latest/api/python/reference/api/pyspark.ml.feature.Imputer.html)). Por defecto ya rellena con la media como muestra este ejemplo:"
   ]
  },
  {
   "cell_type": "code",
   "execution_count": 17,
   "metadata": {},
   "outputs": [
    {
     "name": "stdout",
     "output_type": "stream",
     "text": [
      "+---+---+\n",
      "|  a|  b|\n",
      "+---+---+\n",
      "|1.0|NaN|\n",
      "|2.0|NaN|\n",
      "|NaN|3.0|\n",
      "|4.0|4.0|\n",
      "|5.0|5.0|\n",
      "+---+---+\n",
      "\n",
      "+---+---+-----+-----+\n",
      "|  a|  b|out_a|out_b|\n",
      "+---+---+-----+-----+\n",
      "|1.0|NaN|  1.0|  4.0|\n",
      "|2.0|NaN|  2.0|  4.0|\n",
      "|NaN|3.0|  3.0|  3.0|\n",
      "|4.0|4.0|  4.0|  4.0|\n",
      "|5.0|5.0|  5.0|  5.0|\n",
      "+---+---+-----+-----+\n",
      "\n"
     ]
    }
   ],
   "source": [
    "from pyspark.ml.feature import Imputer\n",
    "\n",
    "dfPega = spark.createDataFrame(\n",
    "    [\n",
    "        (1.0, float(\"nan\")),\n",
    "        (2.0, float(\"nan\")),\n",
    "        (float(\"nan\"), 3.0),\n",
    "        (4.0, 4.0),\n",
    "        (5.0, 5.0),\n",
    "    ],\n",
    "    [\"a\", \"b\"],\n",
    ")\n",
    "dfPega.show()\n",
    "\n",
    "imputer = Imputer(inputCols=[\"a\", \"b\"], outputCols=[\"out_a\", \"out_b\"])  # metodo\n",
    "imputmodel = imputer.fit(dfPega)  # metodo.fit -> modelo\n",
    "\n",
    "imputmodel.transform(dfPega).show()  # modelo.transform --> resultado"
   ]
  },
  {
   "cell_type": "markdown",
   "metadata": {},
   "source": [
    " Como vemos, se le pasa una lista de columnas de entrada. En nuestro caso usaremos solo `age` como entrada y genera una nueva columna `age_m` con  los  huecos cambiados por la media de los valores existentes. \n",
    "\n",
    "Llamaremos a la columna de salida `age_m`, y al dataframe de salida `df_m`."
   ]
  },
  {
   "cell_type": "code",
   "execution_count": 20,
   "metadata": {
    "scrolled": true
   },
   "outputs": [],
   "source": [
    "from pyspark.ml.feature import Imputer\n",
    "\n",
    "# solución\n",
    "imputer = Imputer(inputCols=[\"age\"], outputCols=[\"age_m\"])  # metodo\n",
    "imputmodel = imputer.fit(dfi)  # metodo.fit -> modelo\n",
    "\n",
    "df_m = imputmodel.transform(dfi)  # modelo.transform --> resultado"
   ]
  },
  {
   "cell_type": "markdown",
   "metadata": {},
   "source": [
    "El siguiente codigo nos debe decir que age_m tiene 0 nulos"
   ]
  },
  {
   "cell_type": "code",
   "execution_count": 21,
   "metadata": {},
   "outputs": [
    {
     "name": "stdout",
     "output_type": "stream",
     "text": [
      "Column survived contains 0.0% nulls\n",
      "Column pclass contains 0.0% nulls\n",
      "Column name contains 0.0% nulls\n",
      "Column sex contains 0.0% nulls\n",
      "Column age contains 19.87% nulls\n",
      "Column sibsp contains 0.0% nulls\n",
      "Column parch contains 0.0% nulls\n",
      "Column ticket contains 0.0% nulls\n",
      "Column fare contains 0.0% nulls\n",
      "Column embarked contains 0.22% nulls\n",
      "Column label contains 0.0% nulls\n",
      "Column sex_i contains 0.0% nulls\n",
      "Column age_m contains 0.0% nulls\n"
     ]
    }
   ],
   "source": [
    "printnulls(df_m)"
   ]
  },
  {
   "cell_type": "markdown",
   "metadata": {},
   "source": [
    "### Pregunta 3 (1 punto)\n",
    "\n",
    "Combinar en un VectorAssembler las columnas 'pclass', 'age_m', 'sibsp', 'parch', 'fare', 'sex_i' dando como salida una nueva columna `features`. Este transformador tomará el dataframe `df_m` como entrada. El dataframe de salida se debe llamar `df_feat`\n",
    "\n"
   ]
  },
  {
   "cell_type": "code",
   "execution_count": null,
   "metadata": {},
   "outputs": [],
   "source": [
    "from pyspark.ml.feature import VectorAssembler\n",
    "\n",
    "vectorcols = [\"pclass\", \"age_m\", \"parch\", \"fare\", \"sex_i\"]\n",
    "# solución: enera un vector a partir de los valores\n",
    "assembler = VectorAssembler(inputCols=vectorcols, outputCol=\"features\")\n",
    "df_feat = assembler.transform(df_m)"
   ]
  },
  {
   "cell_type": "markdown",
   "metadata": {},
   "source": [
    "Ejecutar este código deja solo las columnas que queremos y muestra el resultado"
   ]
  },
  {
   "cell_type": "code",
   "execution_count": 23,
   "metadata": {},
   "outputs": [
    {
     "name": "stdout",
     "output_type": "stream",
     "text": [
      "+--------------------+-----+\n",
      "|            features|label|\n",
      "+--------------------+-----+\n",
      "|[3.0,22.0,0.0,7.2...|  0.0|\n",
      "|[1.0,38.0,0.0,71....|  1.0|\n",
      "|[3.0,26.0,0.0,7.9...|  1.0|\n",
      "|[1.0,35.0,0.0,53....|  1.0|\n",
      "|[3.0,35.0,0.0,8.0...|  0.0|\n",
      "|[3.0,29.699117647...|  0.0|\n",
      "|[1.0,54.0,0.0,51....|  0.0|\n",
      "|[3.0,2.0,1.0,21.0...|  0.0|\n",
      "|[3.0,27.0,2.0,11....|  1.0|\n",
      "|[2.0,14.0,0.0,30....|  1.0|\n",
      "|[3.0,4.0,1.0,16.7...|  1.0|\n",
      "|[1.0,58.0,0.0,26....|  1.0|\n",
      "|[3.0,20.0,0.0,8.0...|  0.0|\n",
      "|[3.0,39.0,5.0,31....|  0.0|\n",
      "|[3.0,14.0,0.0,7.8...|  0.0|\n",
      "|[2.0,55.0,0.0,16....|  1.0|\n",
      "|[3.0,2.0,1.0,29.1...|  0.0|\n",
      "|[2.0,29.699117647...|  1.0|\n",
      "|[3.0,31.0,0.0,18....|  0.0|\n",
      "|[3.0,29.699117647...|  1.0|\n",
      "+--------------------+-----+\n",
      "only showing top 20 rows\n",
      "\n"
     ]
    }
   ],
   "source": [
    "df_feat = df_feat.select([\"features\", \"label\"])\n",
    "df_feat.show()"
   ]
  },
  {
   "cell_type": "markdown",
   "metadata": {},
   "source": [
    "### Pregunta 4 (2 puntos)\n",
    "\n",
    "Ahora vamos a utilizar regresión logística, con:\n",
    "* Un 70% de valores para entrenar y un 30% para test. \n",
    "\n",
    "El método se usará sin hiperparámetros\n",
    "\n",
    " Hacer que el modelo quede en una variable `lrModel` y las predicciones del test en una variable `predictions`"
   ]
  },
  {
   "cell_type": "code",
   "execution_count": null,
   "metadata": {},
   "outputs": [
    {
     "name": "stderr",
     "output_type": "stream",
     "text": [
      "24/11/05 19:23:42 WARN InstanceBuilder: Failed to load implementation from:dev.ludovic.netlib.blas.VectorBLAS\n"
     ]
    }
   ],
   "source": [
    "from pyspark.ml.classification import LogisticRegression\n",
    "\n",
    "# solución\n",
    "train, test = df_feat.randomSplit([0.7, 0.3])\n",
    "lr = LogisticRegression()\n",
    "lrModel = lr.fit(train)\n",
    "predictions = lrModel.transform(test)"
   ]
  },
  {
   "cell_type": "markdown",
   "metadata": {},
   "source": [
    "Examinar los resultados de la evaluación"
   ]
  },
  {
   "cell_type": "code",
   "execution_count": 28,
   "metadata": {},
   "outputs": [
    {
     "name": "stdout",
     "output_type": "stream",
     "text": [
      "+--------------------+-----+--------------------+--------------------+----------+\n",
      "|            features|label|       rawPrediction|         probability|prediction|\n",
      "+--------------------+-----+--------------------+--------------------+----------+\n",
      "|(5,[0,1],[1.0,29....|  0.0|[0.29755473583888...|[0.57384464312918...|       0.0|\n",
      "|(5,[0,1],[1.0,39.0])|  0.0|[0.59583027336147...|[0.64470176012622...|       0.0|\n",
      "|(5,[0,1],[2.0,29....|  0.0|[1.29492758856055...|[0.78498006681692...|       0.0|\n",
      "|(5,[0,1],[2.0,29....|  0.0|[1.29492758856055...|[0.78498006681692...|       0.0|\n",
      "|(5,[0,1],[3.0,36.0])|  0.0|[2.49436719144337...|[0.92374599454054...|       0.0|\n",
      "|(5,[0,1],[3.0,49.0])|  0.0|[2.91127193667622...|[0.94840084440764...|       0.0|\n",
      "|[1.0,4.0,2.0,81.8...|  1.0|[-0.2235720390174...|[0.44433864753163...|       1.0|\n",
      "|[1.0,14.0,2.0,120...|  1.0|[-2.7614177778513...|[0.05944504659657...|       1.0|\n",
      "|[1.0,18.0,0.0,108...|  0.0|[-0.4341346434642...|[0.39313945029996...|       1.0|\n",
      "|[1.0,18.0,0.0,227...|  1.0|[-3.5561526534793...|[0.02775605708130...|       1.0|\n",
      "|[1.0,18.0,2.0,79....|  1.0|[-2.5010465351648...|[0.07578484657458...|       1.0|\n",
      "|[1.0,19.0,2.0,26....|  1.0|[-2.2942716108249...|[0.09159849622733...|       1.0|\n",
      "|[1.0,22.0,2.0,49....|  1.0|[-2.2740667960046...|[0.09329363278816...|       1.0|\n",
      "|[1.0,23.0,0.0,113...|  1.0|[-3.0217870982806...|[0.04645125342494...|       1.0|\n",
      "|[1.0,23.0,1.0,63....|  1.0|[0.16080772248824...|[0.54011552183628...|       0.0|\n",
      "|[1.0,23.0,2.0,263...|  1.0|[-2.9409272004988...|[0.05016707334107...|       1.0|\n",
      "|[1.0,24.0,0.0,49....|  1.0|[-2.7809525129761...|[0.05836218717338...|       1.0|\n",
      "|[1.0,24.0,0.0,69....|  1.0|[-2.8457575644964...|[0.05490102885581...|       1.0|\n",
      "|[1.0,24.0,0.0,79....|  0.0|[-0.1444888672971...|[0.46394049597862...|       1.0|\n",
      "|[1.0,24.0,0.0,83....|  1.0|[-2.8911251599198...|[0.05259402585447...|       1.0|\n",
      "+--------------------+-----+--------------------+--------------------+----------+\n",
      "only showing top 20 rows\n",
      "\n"
     ]
    }
   ],
   "source": [
    "predictions.show()"
   ]
  },
  {
   "cell_type": "markdown",
   "metadata": {},
   "source": [
    "### Pregunta 5 (2 puntos)\n",
    "Repite la predicción con distintos métodos de clasificacion (LogisticRegression, RandomForestClassifier). Y discute los resultados en base a su accuracy."
   ]
  },
  {
   "cell_type": "code",
   "execution_count": null,
   "metadata": {},
   "outputs": [
    {
     "name": "stdout",
     "output_type": "stream",
     "text": [
      "LogisticRegression accuracy: 0.7748091603053435\n",
      "RandomForestClassifier accuracy: 0.8206106870229007\n"
     ]
    }
   ],
   "source": [
    "from pyspark.ml.classification import LogisticRegression\n",
    "from pyspark.ml.classification import RandomForestClassifier\n",
    "from pyspark.ml.evaluation import MulticlassClassificationEvaluator\n",
    "\n",
    "# solución\n",
    "lr = LogisticRegression()\n",
    "lrModel = lr.fit(train)\n",
    "predictions_lr = lrModel.transform(test)\n",
    "\n",
    "rfc = RandomForestClassifier()\n",
    "rfcModel = rfc.fit(train)\n",
    "predictions_rfc = rfcModel.transform(test)\n",
    "\n",
    "evaluator = MulticlassClassificationEvaluator(metricName=\"accuracy\")\n",
    "accuracy_lr = evaluator.evaluate(predictions_lr)\n",
    "accuracy_rfc = evaluator.evaluate(predictions_rfc)\n",
    "\n",
    "print(f\"LogisticRegression accuracy: {accuracy_lr}\")\n",
    "print(f\"RandomForestClassifier accuracy: {accuracy_rfc}\")"
   ]
  },
  {
   "cell_type": "markdown",
   "metadata": {},
   "source": [
    "### Pregunta 6 (1 punto)\n",
    "\n",
    "Vamos a hacer nuestra propia matriz de confusión a partir de las columnas `prediction` y `label` del dataframe `predictions`. La representaremos como un array de arrays. En nuestro caso al tener solo 2 clases tendra 4 valores como muestra el disguiente diagrama:\n",
    "\n",
    "<img src=\"https://www.nbshare.io/static/snapshots/cm_colored_1-min.png\" width=350>\n",
    "\n",
    "<img src=\"https://www.dataschool.io/content/images/2015/01/confusion_matrix_simple2.png\" width=\"200\">\n",
    "\n",
    "Escribir una función\n",
    "\n",
    "- Name: cm\n",
    "- Descr: Calcula la matriz de confusión a partir de las predicciones. En esta matriz las filas indican los valores reales y las columnas los predichos. Así, por ejemplo m[0][1] serán la cantidad de valores que, teniendo `label` 0 han tenido `prediction` 1.\n",
    "- Param: p, un dataframe de predicciones\n",
    "- Salida: la matriz de confusión\n",
    "\n",
    "Nota: para calcular el número de valores que verifican las condiciones que deseemos se aconseja usar [filter](https://sparkbyexamples.com/pyspark/pyspark-where-filter/) seguido de count()"
   ]
  },
  {
   "cell_type": "code",
   "execution_count": null,
   "metadata": {},
   "outputs": [],
   "source": [
    "def cm(p):\n",
    "    # solucion\n",
    "    m = []\n",
    "    for i in range(2):\n",
    "        m.append([])\n",
    "        for j in range(2):\n",
    "            m[i].append(p.filter(f\"label = {i} and prediction == {j}\").count())\n",
    "    return m"
   ]
  },
  {
   "cell_type": "code",
   "execution_count": 65,
   "metadata": {},
   "outputs": [
    {
     "data": {
      "text/plain": [
       "<sklearn.metrics._plot.confusion_matrix.ConfusionMatrixDisplay at 0x76db68733d70>"
      ]
     },
     "execution_count": 65,
     "metadata": {},
     "output_type": "execute_result"
    },
    {
     "data": {
      "image/png": "[encoded data removed]",
      "text/plain": [
       "<Figure size 640x480 with 2 Axes>"
      ]
     },
     "metadata": {},
     "output_type": "display_data"
    }
   ],
   "source": [
    "# test\n",
    "from sklearn.metrics import ConfusionMatrixDisplay\n",
    "import matplotlib.pyplot as plt\n",
    "\n",
    "%matplotlib inline\n",
    "import numpy as np\n",
    "\n",
    "m = cm(predictions)\n",
    "\n",
    "ConfusionMatrixDisplay(np.array(m), display_labels=[0, 1]).plot()"
   ]
  },
  {
   "cell_type": "markdown",
   "metadata": {},
   "source": [
    "### Pregunta 7 (1 punto)\n",
    "\n",
    "- Vamos a llamar `precision` de una método para una etiqueta a la proporción de veces que cuando se predice esa etiqueta resulta ser real. \n",
    "\n",
    "- Vamos a llamar recall o exhaustividad de un método para una etiqueta al la proporción de valores reales de esa etiqueta que han sido predichos correctamente. \n",
    "\n",
    "Por ejemplo, dada esta matriz de confusión:\n",
    "\n",
    "    m2 = [[20,80],\n",
    "          [10,90]]\n",
    "     \n",
    "Tendremos:\n",
    "* Accuracy(m2,0): 20/(20+10) = 0.666666\n",
    "* Recall(m2,0): 20//(20+80) = 0.2\n",
    "* Accuracy(m2,1): 90/(90+80) = 0.529...\n",
    "* Recall(m2,1): 90//(10+90) = 0.9\n",
    "\n",
    "\n",
    "Escribir dos métodos, accuracy y  recall para calcular la precisión y el recall a partir de una matriz de confusión y una etiqueta (número >=0)"
   ]
  },
  {
   "cell_type": "code",
   "execution_count": 69,
   "metadata": {},
   "outputs": [],
   "source": [
    "def accuracy(m, value):\n",
    "    return m[value][value] / sum((row[value] for row in m))\n",
    "\n",
    "\n",
    "def recall(m, value):\n",
    "    return m[value][value] / sum((col for col in m[value]))"
   ]
  },
  {
   "cell_type": "code",
   "execution_count": 70,
   "metadata": {},
   "outputs": [
    {
     "name": "stdout",
     "output_type": "stream",
     "text": [
      "Accuracy of 0: 0.667\n",
      "Recall of 0: 0.2\n",
      "Accuracy of 1: 0.529\n",
      "Recall of 1: 0.9\n"
     ]
    }
   ],
   "source": [
    "# test1\n",
    "m2 = [[20, 80], [10, 90]]\n",
    "for i in range(2):\n",
    "    print(f\"Accuracy of {i}: {round(accuracy(m2,i),3)}\")\n",
    "    print(f\"Recall of {i}: {round(recall(m2,i),3)}\")\n"
   ]
  },
  {
   "cell_type": "code",
   "execution_count": 68,
   "metadata": {},
   "outputs": [
    {
     "name": "stdout",
     "output_type": "stream",
     "text": [
      "Accuracy of 0: 0.796\n",
      "Recall of 0: 0.842\n",
      "Accuracy of 1: 0.737\n",
      "Recall of 1: 0.673\n"
     ]
    }
   ],
   "source": [
    "# test2: nuestro ejemplo\n",
    "\n",
    "for i in range(2):\n",
    "    print(f\"Accuracy of {i}: {round(accuracy(m,i),3)}\")\n",
    "    print(f\"Recall of {i}: {round(recall(m,i),3)}\")"
   ]
  },
  {
   "cell_type": "markdown",
   "metadata": {},
   "source": [
    "\n"
   ]
  },
  {
   "cell_type": "code",
   "execution_count": null,
   "metadata": {},
   "outputs": [],
   "source": []
  }
 ],
 "metadata": {
  "kernelspec": {
   "display_name": "tdm",
   "language": "python",
   "name": "python3"
  },
  "language_info": {
   "codemirror_mode": {
    "name": "ipython",
    "version": 3
   },
   "file_extension": ".py",
   "mimetype": "text/x-python",
   "name": "python",
   "nbconvert_exporter": "python",
   "pygments_lexer": "ipython3",
   "version": "3.12.4"
  }
 },
 "nbformat": 4,
 "nbformat_minor": 4
}
