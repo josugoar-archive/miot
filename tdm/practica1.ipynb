{
 "cells": [
  {
   "cell_type": "markdown",
   "metadata": {},
   "source": [
    "# Práctica 1 :Web Scraping con Selenium\n",
    "\n",
    "## Tratamiento de datos masivos - Facultad de Informática - Pablo C. Cañizares"
   ]
  },
  {
   "cell_type": "markdown",
   "metadata": {},
   "source": [
    "Nombre 1: Julio\n",
    "\n",
    "Nombre 2: Josu\n",
    "\n",
    "Grupo: 7"
   ]
  },
  {
   "cell_type": "markdown",
   "metadata": {},
   "source": [
    "**Inicialización:**\n",
    "\n",
    "* Descargar el fichero [chromedriver.exe](http://chromedriver.storage.googleapis.com/index.html) adecuado a nuestra versión de Chrome. Alojarlo en una carpeta local. En el resto de la práctica se asume que se situa en la carpeta' c:/hlocal/tdm, pero esto puede cambiarse modificando la siguiente varaible\n"
   ]
  },
  {
   "cell_type": "code",
   "execution_count": 1,
   "metadata": {},
   "outputs": [],
   "source": [
    "chromedriver = \"./chromedriver\"   \n"
   ]
  },
  {
   "cell_type": "code",
   "execution_count": null,
   "metadata": {},
   "outputs": [],
   "source": [
    "## esto solo es necesario si no tenemos selenium instalado\n",
    "!pip install --user selenium\n",
    "!pip install --user web_driver"
   ]
  },
  {
   "cell_type": "markdown",
   "metadata": {},
   "source": [
    "Ejecutar el siguiente código y comprobar que se abre una sesión de Chrome"
   ]
  },
  {
   "cell_type": "code",
   "execution_count": 4,
   "metadata": {},
   "outputs": [],
   "source": [
    "\n",
    "# Ahora arrancamos una instancia de google Chrome. \n",
    "import os\n",
    "from selenium import webdriver  # si da error, desde anaconda prompt sobre python 3.x hacer pip install --user  selenium\n",
    "chrome_options = webdriver.ChromeOptions()\n",
    "chrome_options.add_argument('--no-sandbox')\n",
    "cService = webdriver.ChromeService(executable_path=chromedriver,options=chrome_options)\n",
    "driver = webdriver.Chrome(service = cService)\n",
    " "
   ]
  },
  {
   "cell_type": "markdown",
   "metadata": {},
   "source": [
    "1.- Escribir código para abrir en Chrome la página: http://clearskycalculator.com/pyranometer.htm"
   ]
  },
  {
   "cell_type": "code",
   "execution_count": 7,
   "metadata": {},
   "outputs": [],
   "source": [
    "url = 'http://clearskycalculator.com/'\n",
    "driver.get(url)"
   ]
  },
  {
   "cell_type": "markdown",
   "metadata": {},
   "source": [
    "2.- La página nos permite calcular la radiación esperada para una cierta longitud y latitud. \n",
    "Escribir el código que \n",
    "\n",
    "2.1 Pulsa el botón Autofill parameters\n",
    "\n",
    "2.2 Escribe en el formulario los valores 38.52 (latitud) y 77.03 (longitud) y 77 (elevación tz). \n",
    "Notas: \n",
    "* Para conocer los datos que identifican a un objeto colocarse sobre él y pulsar inspeccionar. La primera vez hay que hacerlo 2 veces.\n",
    "* Para escribir texto en una caja `input` se utiliza el método `send_keys(s)`, con s el string que se desea escribir. Sin embargo, al tratarse de cajas numéricas conviene hacerlo en dos fases tras seleccionar el elemento al que podemos llamar elem\n",
    "\n",
    "1º elem.send_keys(Keys.CONTROL + 'a')\n",
    "2º elem.send_keys(valorquequeramos)\n",
    "\n",
    "La primera llamada lo que hace es seleccionar el valor actual de la casilla, mientras que la segunda llamada lo sobreescribe.\n",
    "\n",
    "* Utilizar el `id` para identificar objetos cuando sea posible. Recordar que el nombre de identificadores tiene en cuenta mayúscula y minúscula"
   ]
  },
  {
   "cell_type": "code",
   "execution_count": 15,
   "metadata": {},
   "outputs": [],
   "source": [
    "import time\n",
    "from selenium.webdriver.common.keys import Keys\n",
    "from selenium.webdriver.common.by import By\n",
    "\n",
    "#autofill\n",
    "slider = driver.find_element(by=By.CLASS_NAME, value='slider')\n",
    "slider.click()\n",
    "\n",
    "#filling the form\n",
    "elem = driver.find_element(value='latitude')\n",
    "elem.send_keys(Keys.CONTROL + 'a')\n",
    "elem.send_keys(\"38.52\")\n",
    "\n",
    "elem = driver.find_element(value='longitude')\n",
    "elem.send_keys(Keys.CONTROL + 'a')\n",
    "elem.send_keys(\"77.03\")\n",
    "\n",
    "elem = driver.find_element(value='elevation')\n",
    "elem.send_keys(Keys.CONTROL + 'a')\n",
    "elem.send_keys(\"77\")"
   ]
  },
  {
   "cell_type": "markdown",
   "metadata": {},
   "source": [
    "2.3 Pulsar el botón \"Calculate Model\" utilizando xPath. \n",
    "\n",
    "Ayuda:  para obtener un elemento `element` por un valor de un atributo `attribute` se escribe \n",
    "``` [Python]\n",
    "elemento = driver.findElement(By.XPATH,\"//element[@attribute='púlsame']\"))\n",
    "```"
   ]
  },
  {
   "cell_type": "code",
   "execution_count": 17,
   "metadata": {},
   "outputs": [],
   "source": [
    "# solución\n",
    "elemento = driver.find_element(by=By.XPATH, value='//*[@id=\"calculateButton\"]')\n"
   ]
  },
  {
   "cell_type": "markdown",
   "metadata": {},
   "source": [
    "2.4 Obtener y mostrar por pantalla el valor de radiación solar de la etiqueta a la derecha texto *Model Estimated Shortwave*"
   ]
  },
  {
   "cell_type": "code",
   "execution_count": 18,
   "metadata": {},
   "outputs": [
    {
     "name": "stdout",
     "output_type": "stream",
     "text": [
      "NaN\n"
     ]
    }
   ],
   "source": [
    "# solución\n",
    "rad = driver.find_element(value=\"finalResult\")\n",
    "print(rad.text)"
   ]
  },
  {
   "cell_type": "markdown",
   "metadata": {},
   "source": [
    "2.5 Extraer todos los elementos mostrados en el cuadro *Calculated Intermediate Variables* y guardarlos en un diccionario. Las claves deben ser los identificadores del div, ej: dicc = { \"solar_constant\": 1361, \"lon_tz\":105 , ...}"
   ]
  },
  {
   "cell_type": "code",
   "execution_count": 19,
   "metadata": {},
   "outputs": [
    {
     "name": "stdout",
     "output_type": "stream",
     "text": [
      "{'solarConstant': '1361', 'energyPAR': '211000', 'PAR_Solar': '0.53', 'UVa_Solar': '', 'lon_tz': '105', 'K_t': '1.0', 'd_r': '1.00', 'delta': '-0.10', 'eqt': '7.79', 'solar_N': '11.01', 'solar_Z': '136.3', 'P_B': '100.4', 'e_A': '0.95', 'w': '14.9', 'K_b': 'NaN', 'K_d': 'NaN', 'SW_a': '-981', 'SW_i': 'NaN'}\n"
     ]
    }
   ],
   "source": [
    "def insertToDict(constantId,dict):\n",
    "    const = driver.find_element(By.ID, constantId)\n",
    "    val = const.find_element(By.CLASS_NAME, \"value\")\n",
    "    dict[constantId] = val.text\n",
    "    return dict\n",
    "\n",
    "dict = {}\n",
    "\n",
    "#solución\n",
    "for constantId in (\n",
    "        \"solarConstant\",\n",
    "        \"energyPAR\",\n",
    "        \"PAR_Solar\",\n",
    "        \"UVa_Solar\",\n",
    "        \"lon_tz\",\n",
    "        \"K_t\",\n",
    "        \"d_r\",\n",
    "        \"delta\",\n",
    "        \"eqt\",\n",
    "        \"solar_N\",\n",
    "        \"solar_Z\",\n",
    "        \"P_B\",\n",
    "        \"e_A\",\n",
    "        \"w\",\n",
    "        \"K_b\",\n",
    "        \"K_d\",\n",
    "        \"SW_a\",\n",
    "        \"SW_i\"\n",
    "    ):\n",
    "        dict = insertToDict(constantId, dict)\n",
    "\n",
    "\n",
    "print(dict)"
   ]
  },
  {
   "cell_type": "markdown",
   "metadata": {},
   "source": [
    "3 En Python las funciones nos permiten agrupar código que vamos a utilizar varias veces. Por ejemplo:\n"
   ]
  },
  {
   "cell_type": "code",
   "execution_count": 20,
   "metadata": {},
   "outputs": [
    {
     "data": {
      "text/plain": [
       "4"
      ]
     },
     "execution_count": 20,
     "metadata": {},
     "output_type": "execute_result"
    }
   ],
   "source": [
    "def mayor(x,y):\n",
    "    z = max(x,y)\n",
    "    return z\n",
    "\n",
    "# llamamos a la función\n",
    "mayor(3,4)"
   ]
  },
  {
   "cell_type": "markdown",
   "metadata": {},
   "source": [
    "3.1 Reunir el código anterior (el del ejercicio 2) en una función `radiacion`que reciba como parámetros los valores lat, lon, lonz y devuelva un diccionario con los datos extraídos:\n",
    "    "
   ]
  },
  {
   "cell_type": "code",
   "execution_count": 36,
   "metadata": {},
   "outputs": [],
   "source": [
    "\n",
    "import time\n",
    "def radiacion(latitud,longitud,longitudz): \n",
    "    #solución\n",
    "    #autofill\n",
    "    slider = driver.find_element(by=By.CLASS_NAME, value='slider')\n",
    "    slider.click()\n",
    "\n",
    "    #filling the form\n",
    "    elem = driver.find_element(value='latitude')\n",
    "    elem.send_keys(Keys.CONTROL + 'a')\n",
    "    elem.send_keys(latitud)\n",
    "\n",
    "    elem = driver.find_element(value='longitude')\n",
    "    elem.send_keys(Keys.CONTROL + 'a')\n",
    "    elem.send_keys(longitud)\n",
    "\n",
    "    elem = driver.find_element(value='elevation')\n",
    "    elem.send_keys(Keys.CONTROL + 'a')\n",
    "    elem.send_keys(longitudz)\n",
    "\n",
    "    rad = driver.find_element(value=\"finalResult\")\n",
    "\n",
    "    return rad.text"
   ]
  },
  {
   "cell_type": "markdown",
   "metadata": {},
   "source": [
    "Para probarlo podemos ejecutar:"
   ]
  },
  {
   "cell_type": "code",
   "execution_count": 26,
   "metadata": {},
   "outputs": [
    {
     "name": "stdout",
     "output_type": "stream",
     "text": [
      "{'solarConstant': '1361', 'energyPAR': '211000', 'PAR_Solar': '0.53', 'UVa_Solar': '', 'lon_tz': '105', 'K_t': '1.0', 'd_r': '1.00', 'delta': '-0.10', 'eqt': '7.79', 'solar_N': '11.01', 'solar_Z': '136.3', 'P_B': '100.4', 'e_A': '0.95', 'w': '14.9', 'K_b': 'NaN', 'K_d': 'NaN', 'SW_a': '-981', 'SW_i': 'NaN'}\n"
     ]
    }
   ],
   "source": [
    "## pruebas; no borrar\n",
    "print(radiacion(\"41.7\",\"32.3\",\"0\"))"
   ]
  },
  {
   "cell_type": "markdown",
   "metadata": {},
   "source": [
    "3.2 Reúne el código para obtener todos los valores de variables intermedias en la función *obtain_all_values()*"
   ]
  },
  {
   "cell_type": "code",
   "execution_count": 27,
   "metadata": {},
   "outputs": [],
   "source": [
    "\n",
    "def obtain_all_values():\n",
    "    #solución\n",
    "    dict = {}\n",
    "\n",
    "    for constantId in (\n",
    "        \"solarConstant\",\n",
    "        \"energyPAR\",\n",
    "        \"PAR_Solar\",\n",
    "        \"UVa_Solar\",\n",
    "        \"lon_tz\",\n",
    "        \"K_t\",\n",
    "        \"d_r\",\n",
    "        \"delta\",\n",
    "        \"eqt\",\n",
    "        \"solar_N\",\n",
    "        \"solar_Z\",\n",
    "        \"P_B\",\n",
    "        \"e_A\",\n",
    "        \"w\",\n",
    "        \"K_b\",\n",
    "        \"K_d\",\n",
    "        \"SW_a\",\n",
    "        \"SW_i\"\n",
    "    ):\n",
    "        dict = insertToDict(constantId, dict)\n",
    "    \n",
    "    return dict"
   ]
  },
  {
   "cell_type": "code",
   "execution_count": 38,
   "metadata": {},
   "outputs": [
    {
     "name": "stdout",
     "output_type": "stream",
     "text": [
      "Radiacion: NaN\n",
      "Variables intermedias:  {'solarConstant': '1361', 'energyPAR': '211000', 'PAR_Solar': '0.53', 'UVa_Solar': '', 'lon_tz': '105', 'K_t': '1.0', 'd_r': '1.00', 'delta': '-0.10', 'eqt': '7.79', 'solar_N': '11.01', 'solar_Z': '136.3', 'P_B': '100.4', 'e_A': '0.95', 'w': '14.9', 'K_b': 'NaN', 'K_d': 'NaN', 'SW_a': '-981', 'SW_i': 'NaN'}\n"
     ]
    }
   ],
   "source": [
    "## pruebas; no borrar\n",
    "print(\"Radiacion: \"+radiacion(\"41.7\",\"32.3\",\"0\"))\n",
    "print(\"Variables intermedias: \",obtain_all_values())"
   ]
  },
  {
   "cell_type": "markdown",
   "metadata": {},
   "source": [
    "3.3 Vamos a darle una vuelta de tuerca a la extracción, podemos observar que hay varias mediciones en la página: 'shortwave', 'PAR', 'eAR', 'UV-A'. Hasta ahora hemos extraído 'ePAR', ahora vamos a extraer el resto. Para ello, os voy a dejar un pequeño 'hack', la función *extractDictFromKeyList*\n",
    "\n",
    "PD: Recuerda hacer click en los botones correspondientes para cambiar de pestaña"
   ]
  },
  {
   "cell_type": "code",
   "execution_count": 39,
   "metadata": {},
   "outputs": [],
   "source": [
    "def extractDictFromKeyList(keyList):\n",
    "    dict = {}\n",
    "    for key in keyList:\n",
    "        dict = insertToDict(key, dict)\n",
    "    return dict\n",
    "\n",
    "#Para cada uno de los siguientes keyList, obtener el diccionario correspondiente\n",
    "keyList_ePAR = ['solarConstant','lon_tz','K_t','d_r','delta','eqt','solar_N','solar_Z','P_B','e_A','w','K_b','K_d','SW_a']\n",
    "keyList_shortwave = ['solarConstant','lon_tz','K_t','d_r','delta','eqt','solar_N','solar_Z','P_B','e_A','w','K_b','K_d','SW_a']\n",
    "keyList_par = ['solarConstant','energyPAR','PAR_Solar','UVa_Solar','lon_tz','K_t','d_r','delta','eqt','solar_N','solar_Z','P_B','e_A','w','K_b','K_d','SW_a', 'SW_i']\n",
    "keyList_uva = ['solarConstant','UVa_Solar','lon_tz','K_t','d_r','delta','eqt','solar_N','solar_Z','P_B','e_A','w','K_b','K_d','SW_a', 'SW_i']\n",
    "\n",
    "elem = driver.find_element(value='ePAR')\n",
    "elem.click()\n",
    "ePARdict = extractDictFromKeyList(keyList_ePAR)\n",
    "\n",
    "elem = driver.find_element(value='Shortwave')\n",
    "elem.click()\n",
    "eShortwaveDict = extractDictFromKeyList(keyList_shortwave)\n",
    "\n",
    "elem = driver.find_element(value='PAR')\n",
    "elem.click()\n",
    "PARDict = extractDictFromKeyList(keyList_par)\n",
    "\n",
    "elem = driver.find_element(value='UV-A')\n",
    "elem.click()\n",
    "UVADict = extractDictFromKeyList(keyList_uva)"
   ]
  },
  {
   "cell_type": "code",
   "execution_count": 40,
   "metadata": {},
   "outputs": [
    {
     "name": "stdout",
     "output_type": "stream",
     "text": [
      "ePAR dict => {'solarConstant': '1361', 'lon_tz': '105', 'K_t': '1.0', 'd_r': '1.00', 'delta': '-0.10', 'eqt': '7.79', 'solar_N': '8.02', 'solar_Z': '133.8', 'P_B': '101.3', 'e_A': '0.95', 'w': '15.0', 'K_b': 'NaN', 'K_d': 'NaN', 'SW_a': '-939'}\n",
      "Shortwave dict => {'solarConstant': '1361', 'lon_tz': '105', 'K_t': '1.0', 'd_r': '1.00', 'delta': '-0.10', 'eqt': '7.79', 'solar_N': '8.02', 'solar_Z': '133.8', 'P_B': '101.3', 'e_A': '0.95', 'w': '15.0', 'K_b': 'NaN', 'K_d': 'NaN', 'SW_a': '-939'}\n",
      "PAR dict => {'solarConstant': '1361', 'energyPAR': '219000', 'PAR_Solar': '0.47', 'UVa_Solar': '', 'lon_tz': '105', 'K_t': '1.0', 'd_r': '1.00', 'delta': '-0.10', 'eqt': '7.79', 'solar_N': '8.02', 'solar_Z': '133.8', 'P_B': '101.3', 'e_A': '0.95', 'w': '15.0', 'K_b': 'NaN', 'K_d': 'NaN', 'SW_a': '-939', 'SW_i': 'NaN'}\n",
      "U-VA dict => {'solarConstant': '1361', 'UVa_Solar': '0.062', 'lon_tz': '105', 'K_t': '1.0', 'd_r': '1.00', 'delta': '-0.10', 'eqt': '7.79', 'solar_N': '8.02', 'solar_Z': '133.8', 'P_B': '101.3', 'e_A': '0.95', 'w': '15.0', 'K_b': 'NaN', 'K_d': 'NaN', 'SW_a': '-939', 'SW_i': 'NaN'}\n"
     ]
    }
   ],
   "source": [
    "#pruebas\n",
    "print(\"ePAR dict =>\", ePARdict)\n",
    "print(\"Shortwave dict =>\", eShortwaveDict)\n",
    "print(\"PAR dict =>\", PARDict)\n",
    "print(\"U-VA dict =>\", UVADict)"
   ]
  },
  {
   "cell_type": "markdown",
   "metadata": {},
   "source": [
    "Extra: Hay una manera más eficiente para extraer las variables, sin conocer la lista de claves. ¿Sabrías como?"
   ]
  },
  {
   "cell_type": "code",
   "execution_count": 68,
   "metadata": {},
   "outputs": [
    {
     "name": "stdout",
     "output_type": "stream",
     "text": [
      "{'solarConstant': '1361', 'energyPAR': '211000', 'PAR_Solar': '0.53', 'UVa_Solar': '', 'lon_tz': '105', 'K_t': '1.0', 'd_r': '1.00', 'delta': '-0.10', 'eqt': '7.79', 'solar_N': '8.02', 'solar_Z': '133.8', 'P_B': '101.3', 'e_A': '0.95', 'w': '15.0', 'K_b': 'NaN', 'K_d': 'NaN', 'SW_a': '-939', 'SW_i': 'NaN'}\n"
     ]
    }
   ],
   "source": [
    "#Justifica tu respuesta\n",
    "elem = driver.find_element(by=By.CLASS_NAME, value='intermediate-variables-container')\n",
    "elems = elem.find_elements(by=By.XPATH, value=\"./*\")\n",
    "ids = map(lambda child: child.get_attribute(\"id\"), elems)\n",
    "print(extractDictFromKeyList(ids))"
   ]
  },
  {
   "cell_type": "markdown",
   "metadata": {},
   "source": [
    "Recordar subir el fichero al campus virtual"
   ]
  }
 ],
 "metadata": {
  "kernelspec": {
   "display_name": "Python 3 (ipykernel)",
   "language": "python",
   "name": "python3"
  },
  "language_info": {
   "codemirror_mode": {
    "name": "ipython",
    "version": 3
   },
   "file_extension": ".py",
   "mimetype": "text/x-python",
   "name": "python",
   "nbconvert_exporter": "python",
   "pygments_lexer": "ipython3",
   "version": "3.12.4"
  }
 },
 "nbformat": 4,
 "nbformat_minor": 2
}
