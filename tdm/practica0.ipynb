{
 "cells": [
  {
   "cell_type": "markdown",
   "metadata": {},
   "source": [
    "# Tratamiento de datos masivos \n",
    "## Práctica 1: Introducción a Python\n",
    "### Material original por Rafa Caballero, extendido y modificado por Pablo C. Cañizares (Facultad de Informática - UCM)\n",
    "\n",
    "\n",
    "\n",
    "Por favor, no olvides escribir aquí tu nombre y el número de puesto"
   ]
  },
  {
   "cell_type": "markdown",
   "metadata": {},
   "source": [
    "Nombre:                 Puesto:"
   ]
  },
  {
   "cell_type": "markdown",
   "metadata": {},
   "source": [
    "**Intrucciones**\n",
    "\n",
    "* Completa las casillas indicadas \n",
    "* Cuando hayas terminado selecciona *File* + *Download as* + *Notebook* (.ipynb)\n",
    "* Grabar el fichero en el disco (por ejemplo en la carpeta c:\\hlocal) con nombre *NombreDelEstudiante.ipynb*\n",
    "* Finalmente subir este fichero al *Campus Virtual*."
   ]
  },
  {
   "cell_type": "markdown",
   "metadata": {},
   "source": [
    "**1.** Escribir una expresión que muestre el primer y el último elemento de una lista a.\n",
    "\n",
    "**Nota:** el código debe funcionar para cuaquier lista no vacía\n",
    "\n",
    "Ejemplo: para la lista *a* del ejemplo mostrará *1 7*"
   ]
  },
  {
   "cell_type": "code",
   "execution_count": 1,
   "metadata": {
    "collapsed": true
   },
   "outputs": [],
   "source": [
    "a = [1, 2, 3, 4, 5, 6, 7]"
   ]
  },
  {
   "cell_type": "code",
   "execution_count": 36,
   "metadata": {},
   "outputs": [
    {
     "name": "stdout",
     "output_type": "stream",
     "text": [
      "1 7\n"
     ]
    }
   ],
   "source": [
    "# Solución\n",
    "print(a[0], a[-1])"
   ]
  },
  {
   "cell_type": "markdown",
   "metadata": {},
   "source": [
    "** 2. ** Sabiendo que la lista *b* tiene al menos 8 elementos, escribir una expresión que devuelva la concatenación de los elementos que ocupan las posiciones [1,2,3,4] y [6,7]  (recordad que la primera posición es la 0).\n",
    "\n",
    "Por ejemplo, para la lista b siguiente tendremos como salida: *['b', 'c', 'd', 'e', 'g', 'h']*\n",
    "\n",
    "*Nota*: No se puede hacer accediendo a todos los elementos uno a uno (es decir con 6 accesos individuales)."
   ]
  },
  {
   "cell_type": "code",
   "execution_count": 4,
   "metadata": {
    "collapsed": true
   },
   "outputs": [],
   "source": [
    "b = [\"a\", \"b\", \"c\", \"d\", \"e\", \"f\", \"g\", \"h\"]"
   ]
  },
  {
   "cell_type": "code",
   "execution_count": 37,
   "metadata": {},
   "outputs": [
    {
     "name": "stdout",
     "output_type": "stream",
     "text": [
      "['b', 'c', 'd', 'e', 'g', 'h']\n"
     ]
    }
   ],
   "source": [
    "# Solución\n",
    "print(b[1:5] + b[6:8])"
   ]
  },
  {
   "cell_type": "markdown",
   "metadata": {},
   "source": [
    "**3.** EScribir un programa que lea una frase introducida por teclado por el usuario y cambie todas las letras 'a' por 'o'.\n",
    "\n",
    "Ejemplo:\n",
    "``` [Python]\n",
    "Dime algo: abracadabra\n",
    "obrocodobro\n",
    "```\n"
   ]
  },
  {
   "cell_type": "code",
   "execution_count": 38,
   "metadata": {},
   "outputs": [
    {
     "name": "stdout",
     "output_type": "stream",
     "text": [
      "obrocodobro\n"
     ]
    }
   ],
   "source": [
    "# Solución\n",
    "print(input(\"Dime algo: \").replace(\"a\", \"o\"))"
   ]
  },
  {
   "cell_type": "markdown",
   "metadata": {},
   "source": [
    "**4.** Escribir un programa que lea una frase del teclado y cuente el número de palabras. Consideramos que cada dos palabras vienen separados por un espacio.\n",
    "\n",
    "Ejemplo\n",
    "``` [Python]\n",
    "Dime una frase: esta frase tiene cinco palabras\n",
    "5\n",
    "```"
   ]
  },
  {
   "cell_type": "code",
   "execution_count": 39,
   "metadata": {},
   "outputs": [
    {
     "name": "stdout",
     "output_type": "stream",
     "text": [
      "5\n"
     ]
    }
   ],
   "source": [
    "# Solución\n",
    "print(len(input(\"Dime una frase: \").split()))"
   ]
  },
  {
   "cell_type": "markdown",
   "metadata": {},
   "source": [
    "** 5. ** Escribir una instrucción print que muestre el texto en x a partir de la primera coma en adelante. Con el valor x del ejemplo, la salida ser * ingrávidos y gentiles, como pompas de jabón*\n",
    "\n",
    "Notas:\n",
    "* No alterar x, escribir tras el comentario *Solución*\n",
    "* Se puede suponer que la cadena en x contiene al menos una coma."
   ]
  },
  {
   "cell_type": "code",
   "execution_count": 40,
   "metadata": {},
   "outputs": [
    {
     "name": "stdout",
     "output_type": "stream",
     "text": [
      " ingrávidos y gentiles, como pompas de jabón\n"
     ]
    }
   ],
   "source": [
    "x = \"yo amo los mundos sutiles, ingrávidos y gentiles, como pompas de jabón\"\n",
    "# Solución\n",
    "print(x.split(\",\", maxsplit=1)[1])"
   ]
  },
  {
   "cell_type": "markdown",
   "metadata": {},
   "source": [
    "** 6. ** Determina la frecuencia de aparición de las palabras de una frase, ejemplo:\n",
    "\n",
    "``` [Python]\n",
    "'Hello hello world'\n",
    "> {'Hello': 2, 'world': 1}\n",
    "```\n",
    "\n",
    "Nota: No alterar el resto de las instrucciones, solo la que sigue al comentario"
   ]
  },
  {
   "cell_type": "code",
   "execution_count": 41,
   "metadata": {},
   "outputs": [
    {
     "name": "stdout",
     "output_type": "stream",
     "text": [
      "{'this': 1, 'time': 3, 'is': 1, 'no': 2, 'to': 2, 'say': 1, 'you': 1, 'yet': 1, 'another': 1}\n"
     ]
    }
   ],
   "source": [
    "sentence = \"this time is no time to say no to you yet another time\"\n",
    "# no cambiar\n",
    "words = sentence.split()\n",
    "frequencies = {}  # empty dictionary for word frequencies\n",
    "\n",
    "# Solución\n",
    "for word in words:\n",
    "    if word in frequencies:\n",
    "        frequencies[word] += 1\n",
    "    else:\n",
    "        frequencies[word] = 1\n",
    "print(frequencies)"
   ]
  },
  {
   "cell_type": "markdown",
   "metadata": {},
   "source": [
    "** 7. ** Ordenar la lista p por longitud de las palabras, de mayor a menor"
   ]
  },
  {
   "cell_type": "code",
   "execution_count": 42,
   "metadata": {},
   "outputs": [
    {
     "name": "stdout",
     "output_type": "stream",
     "text": [
      "['tratamiento', 'masivos', 'datos', 'de']\n"
     ]
    }
   ],
   "source": [
    "p = [\"tratamiento\", \"de\", \"datos\", \"masivos\"]\n",
    "# Solución\n",
    "print(sorted(p, key=len, reverse=True))"
   ]
  },
  {
   "cell_type": "markdown",
   "metadata": {},
   "source": [
    "** 8. ** Devuelve los números pares de la lista valores utilizando una función lambda"
   ]
  },
  {
   "cell_type": "code",
   "execution_count": 43,
   "metadata": {},
   "outputs": [
    {
     "name": "stdout",
     "output_type": "stream",
     "text": [
      "[2, 4, 6, 100]\n"
     ]
    }
   ],
   "source": [
    "valores = [1, 2, 3, 4, 5, 6, 7, 5, 100]\n",
    "# Solución\n",
    "print(list(filter(lambda x: x % 2 == 0, valores)))"
   ]
  },
  {
   "cell_type": "markdown",
   "metadata": {},
   "source": [
    "** 9. ** Implementa el famoso juego de 'la patata caliente' del 'Gran Premio’. El programa debe selecionar aleatoriamente un número entre 0 y 100, el usuario debe adivinar este número en una cantidad menor a 10 intentos. \n",
    "\n",
    "Para esto, el programa debe guiar al usuario proporcionandole información de si el número a adivinar es mayor o menor que el propuesto por el usuario. En cada iteración el programa debe mostrar el número introducido por el usuario y si el número secreto es mayor o menor.\n",
    "\n",
    "Finalmente, el programa debe informar al usuario del resultado del juego: si no ha encontrado el número y en caso contrario mostrar en cuantos intentos lo ha conseguido.\n"
   ]
  },
  {
   "cell_type": "code",
   "execution_count": 2,
   "metadata": {},
   "outputs": [
    {
     "name": "stdout",
     "output_type": "stream",
     "text": [
      "Sorry, Try again greater\n",
      "Sorry, Try again greater\n",
      "Sorry, Try again lesser\n",
      "Sorry, Try again greater\n",
      "Sorry, Try again lesser\n",
      "Sorry, Try again lesser\n",
      "Sorry, Try again greater\n",
      "You got it! You needed 8 attempts\n"
     ]
    }
   ],
   "source": [
    "# Solución\n",
    "from random import randint\n",
    "\n",
    "num = randint(1, 100)\n",
    "\n",
    "attempts = 0\n",
    "while attempts < 10:\n",
    "    attempts += 1\n",
    "    guess = int(input(\"Enter your guess: \"))\n",
    "    if guess == num:\n",
    "        print(f\"You got it! You needed {attempts} attempts\")\n",
    "        break\n",
    "    else:\n",
    "        if guess < num:\n",
    "            hint = \"greater\"\n",
    "        else:\n",
    "            hint = \"lesser\"\n",
    "        print(f\"Sorry, Try again {hint}\")"
   ]
  },
  {
   "cell_type": "markdown",
   "metadata": {},
   "source": [
    "###### 10.  (Difícil)\n",
    "Queremos escribir un código que pida dos valores booleanos True/False al usuario y devuelve el AND lógico de ambos valores. \n",
    "\n",
    "Nota: Podemos suponer que el usuario escribe los valores correctamente.\n",
    "\n",
    "Ejemplos de ejecución (en negrita los valores introducidos por el usuario):\n",
    " ``` [Python]\n",
    "Dame un valor booleano (true o false) True \n",
    "Y ahora otro False\n",
    "True  AND  False = False\n",
    "```\n",
    "\n",
    "Otro ejemplo:\n",
    "``` [Python]\n",
    "Dame un valor booleano (true o false) True\n",
    "Y ahora otro True\n",
    "True  AND  True = True\n",
    "```"
   ]
  },
  {
   "cell_type": "code",
   "execution_count": 48,
   "metadata": {},
   "outputs": [
    {
     "name": "stdout",
     "output_type": "stream",
     "text": [
      "True AND False = False\n"
     ]
    }
   ],
   "source": [
    "num1 = eval(input(\"Dame un valor booleano (true o false) \"))\n",
    "num2 = eval(input(\"Y ahora otro \"))\n",
    "print(f\"{num1} AND {num2} = {num1 and num2}\")"
   ]
  },
  {
   "cell_type": "code",
   "execution_count": 52,
   "metadata": {},
   "outputs": [
    {
     "data": {
      "text/plain": [
       "0"
      ]
     },
     "execution_count": 52,
     "metadata": {},
     "output_type": "execute_result"
    }
   ],
   "source": [
    "True*False"
   ]
  },
  {
   "cell_type": "code",
   "execution_count": null,
   "metadata": {},
   "outputs": [],
   "source": []
  }
 ],
 "metadata": {
  "kernelspec": {
   "display_name": "Python 3 (ipykernel)",
   "language": "python",
   "name": "python3"
  },
  "language_info": {
   "codemirror_mode": {
    "name": "ipython",
    "version": 3
   },
   "file_extension": ".py",
   "mimetype": "text/x-python",
   "name": "python",
   "nbconvert_exporter": "python",
   "pygments_lexer": "ipython3",
   "version": "3.12.5"
  }
 },
 "nbformat": 4,
 "nbformat_minor": 2
}
